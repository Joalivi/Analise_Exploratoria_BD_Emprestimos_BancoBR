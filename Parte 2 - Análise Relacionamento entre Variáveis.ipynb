{
 "cells": [
  {
   "cell_type": "markdown",
   "metadata": {},
   "source": [
    "## Análise Relacional das Principais Variáveis Escolhidas"
   ]
  },
  {
   "cell_type": "code",
   "execution_count": 1,
   "metadata": {},
   "outputs": [],
   "source": [
    "#imports\n",
    "\n",
    "%matplotlib inline\n",
    "import pandas as pd\n",
    "import numpy as np\n",
    "import matplotlib.pyplot as plt\n",
    "import math"
   ]
  },
  {
   "cell_type": "code",
   "execution_count": 2,
   "metadata": {},
   "outputs": [
    {
     "data": {
      "text/plain": [
       "(50390, 23)"
      ]
     },
     "execution_count": 2,
     "metadata": {},
     "output_type": "execute_result"
    }
   ],
   "source": [
    "data = pd.read_csv(\"df_criado_final.csv\")\n",
    "data.shape"
   ]
  },
  {
   "cell_type": "code",
   "execution_count": 3,
   "metadata": {},
   "outputs": [
    {
     "data": {
      "text/html": [
       "<div>\n",
       "<style scoped>\n",
       "    .dataframe tbody tr th:only-of-type {\n",
       "        vertical-align: middle;\n",
       "    }\n",
       "\n",
       "    .dataframe tbody tr th {\n",
       "        vertical-align: top;\n",
       "    }\n",
       "\n",
       "    .dataframe thead th {\n",
       "        text-align: right;\n",
       "    }\n",
       "</style>\n",
       "<table border=\"1\" class=\"dataframe\">\n",
       "  <thead>\n",
       "    <tr style=\"text-align: right;\">\n",
       "      <th></th>\n",
       "      <th>Escolaridade</th>\n",
       "      <th>Renda Mensal Informal</th>\n",
       "      <th>Dependentes</th>\n",
       "      <th>Estado Civil</th>\n",
       "      <th>Idade</th>\n",
       "      <th>Conta Poupanca</th>\n",
       "      <th>Conta Salario</th>\n",
       "      <th>Quant Adiantamento Deposito</th>\n",
       "      <th>Qtd Fonte Renda</th>\n",
       "      <th>Cheque Sem Fundo</th>\n",
       "      <th>...</th>\n",
       "      <th>Valor Emprestimo</th>\n",
       "      <th>Multa</th>\n",
       "      <th>Juros</th>\n",
       "      <th>Valor Emprestimo Atualizado</th>\n",
       "      <th>PAGO</th>\n",
       "      <th>Controle</th>\n",
       "      <th>ID</th>\n",
       "      <th>Genero</th>\n",
       "      <th>Data</th>\n",
       "      <th>Estado</th>\n",
       "    </tr>\n",
       "  </thead>\n",
       "  <tbody>\n",
       "    <tr>\n",
       "      <th>0</th>\n",
       "      <td>NaN</td>\n",
       "      <td>NaN</td>\n",
       "      <td>S</td>\n",
       "      <td>2</td>\n",
       "      <td>36</td>\n",
       "      <td>S</td>\n",
       "      <td>N</td>\n",
       "      <td>NaN</td>\n",
       "      <td>NaN</td>\n",
       "      <td>N</td>\n",
       "      <td>...</td>\n",
       "      <td>8174.32</td>\n",
       "      <td>263.25</td>\n",
       "      <td>5844.98</td>\n",
       "      <td>14282.55</td>\n",
       "      <td>1</td>\n",
       "      <td>1</td>\n",
       "      <td>1328587.0</td>\n",
       "      <td>1</td>\n",
       "      <td>2020-01-01</td>\n",
       "      <td>57</td>\n",
       "    </tr>\n",
       "    <tr>\n",
       "      <th>1</th>\n",
       "      <td>1.0</td>\n",
       "      <td>1894.5078</td>\n",
       "      <td>N</td>\n",
       "      <td>2</td>\n",
       "      <td>39</td>\n",
       "      <td>S</td>\n",
       "      <td>N</td>\n",
       "      <td>2.0</td>\n",
       "      <td>1.0</td>\n",
       "      <td>S</td>\n",
       "      <td>...</td>\n",
       "      <td>41775.63</td>\n",
       "      <td>1607.29</td>\n",
       "      <td>7652.26</td>\n",
       "      <td>51035.18</td>\n",
       "      <td>1</td>\n",
       "      <td>1</td>\n",
       "      <td>1424254.0</td>\n",
       "      <td>1</td>\n",
       "      <td>2020-01-01</td>\n",
       "      <td>59</td>\n",
       "    </tr>\n",
       "    <tr>\n",
       "      <th>2</th>\n",
       "      <td>1.0</td>\n",
       "      <td>NaN</td>\n",
       "      <td>S</td>\n",
       "      <td>2</td>\n",
       "      <td>26</td>\n",
       "      <td>S</td>\n",
       "      <td>N</td>\n",
       "      <td>NaN</td>\n",
       "      <td>1.0</td>\n",
       "      <td>S</td>\n",
       "      <td>...</td>\n",
       "      <td>522940.27</td>\n",
       "      <td>24860.40</td>\n",
       "      <td>319315.62</td>\n",
       "      <td>867116.29</td>\n",
       "      <td>1</td>\n",
       "      <td>1</td>\n",
       "      <td>1438519.0</td>\n",
       "      <td>0</td>\n",
       "      <td>2020-01-01</td>\n",
       "      <td>56</td>\n",
       "    </tr>\n",
       "    <tr>\n",
       "      <th>3</th>\n",
       "      <td>NaN</td>\n",
       "      <td>NaN</td>\n",
       "      <td>N</td>\n",
       "      <td>8</td>\n",
       "      <td>23</td>\n",
       "      <td>N</td>\n",
       "      <td>N</td>\n",
       "      <td>NaN</td>\n",
       "      <td>NaN</td>\n",
       "      <td>N</td>\n",
       "      <td>...</td>\n",
       "      <td>1593.00</td>\n",
       "      <td>21472.36</td>\n",
       "      <td>2967.48</td>\n",
       "      <td>26032.84</td>\n",
       "      <td>1</td>\n",
       "      <td>1</td>\n",
       "      <td>1426138.0</td>\n",
       "      <td>1</td>\n",
       "      <td>2020-01-01</td>\n",
       "      <td>56</td>\n",
       "    </tr>\n",
       "    <tr>\n",
       "      <th>4</th>\n",
       "      <td>NaN</td>\n",
       "      <td>NaN</td>\n",
       "      <td>S</td>\n",
       "      <td>2</td>\n",
       "      <td>33</td>\n",
       "      <td>S</td>\n",
       "      <td>N</td>\n",
       "      <td>NaN</td>\n",
       "      <td>NaN</td>\n",
       "      <td>N</td>\n",
       "      <td>...</td>\n",
       "      <td>2078.97</td>\n",
       "      <td>19.44</td>\n",
       "      <td>46.35</td>\n",
       "      <td>2144.76</td>\n",
       "      <td>1</td>\n",
       "      <td>1</td>\n",
       "      <td>1474504.0</td>\n",
       "      <td>0</td>\n",
       "      <td>2020-01-01</td>\n",
       "      <td>59</td>\n",
       "    </tr>\n",
       "  </tbody>\n",
       "</table>\n",
       "<p>5 rows × 23 columns</p>\n",
       "</div>"
      ],
      "text/plain": [
       "   Escolaridade  Renda Mensal Informal Dependentes  Estado Civil  Idade  \\\n",
       "0           NaN                    NaN           S             2     36   \n",
       "1           1.0              1894.5078           N             2     39   \n",
       "2           1.0                    NaN           S             2     26   \n",
       "3           NaN                    NaN           N             8     23   \n",
       "4           NaN                    NaN           S             2     33   \n",
       "\n",
       "  Conta Poupanca Conta Salario  Quant Adiantamento Deposito  Qtd Fonte Renda  \\\n",
       "0              S             N                          NaN              NaN   \n",
       "1              S             N                          2.0              1.0   \n",
       "2              S             N                          NaN              1.0   \n",
       "3              N             N                          NaN              NaN   \n",
       "4              S             N                          NaN              NaN   \n",
       "\n",
       "  Cheque Sem Fundo  ... Valor Emprestimo     Multa      Juros  \\\n",
       "0                N  ...          8174.32    263.25    5844.98   \n",
       "1                S  ...         41775.63   1607.29    7652.26   \n",
       "2                S  ...        522940.27  24860.40  319315.62   \n",
       "3                N  ...          1593.00  21472.36    2967.48   \n",
       "4                N  ...          2078.97     19.44      46.35   \n",
       "\n",
       "   Valor Emprestimo Atualizado  PAGO  Controle         ID  Genero        Data  \\\n",
       "0                     14282.55     1         1  1328587.0       1  2020-01-01   \n",
       "1                     51035.18     1         1  1424254.0       1  2020-01-01   \n",
       "2                    867116.29     1         1  1438519.0       0  2020-01-01   \n",
       "3                     26032.84     1         1  1426138.0       1  2020-01-01   \n",
       "4                      2144.76     1         1  1474504.0       0  2020-01-01   \n",
       "\n",
       "   Estado  \n",
       "0      57  \n",
       "1      59  \n",
       "2      56  \n",
       "3      56  \n",
       "4      59  \n",
       "\n",
       "[5 rows x 23 columns]"
      ]
     },
     "execution_count": 3,
     "metadata": {},
     "output_type": "execute_result"
    }
   ],
   "source": [
    "data.head()"
   ]
  },
  {
   "cell_type": "code",
   "execution_count": 4,
   "metadata": {},
   "outputs": [],
   "source": [
    "#Retira colunas vazias\n",
    "data = data.drop(columns=['Valor Conta Corrente', 'Valor Conta Poupanca'])"
   ]
  },
  {
   "cell_type": "code",
   "execution_count": 5,
   "metadata": {},
   "outputs": [
    {
     "data": {
      "text/plain": [
       "(50390, 19)"
      ]
     },
     "execution_count": 5,
     "metadata": {},
     "output_type": "execute_result"
    }
   ],
   "source": [
    "#Função que verifica se todos os valores de uma coluna são iguais, retorno booleano\n",
    "def is_unique(s):\n",
    "    a = s.to_numpy() \n",
    "    return (a[0] == a).all()\n",
    "\n",
    "colunas_valores_iguais = []\n",
    "\n",
    "#Remove colunas redundantes\n",
    "for i in range(21):\n",
    "    #print(data.columns[i] + \":\\n\" + str(is_unique(data[data.columns[i]])))\n",
    "    if(is_unique(data[data.columns[i]])):\n",
    "        colunas_valores_iguais.append(data.columns[i])\n",
    "    \n",
    "data = data.drop(columns = colunas_valores_iguais)\n",
    "data.shape"
   ]
  },
  {
   "cell_type": "code",
   "execution_count": 6,
   "metadata": {},
   "outputs": [
    {
     "data": {
      "text/plain": [
       "Index(['Escolaridade', 'Renda Mensal Informal', 'Dependentes', 'Estado Civil',\n",
       "       'Idade', 'Conta Poupanca', 'Conta Salario',\n",
       "       'Quant Adiantamento Deposito', 'Qtd Fonte Renda', 'Cheque Sem Fundo',\n",
       "       'Conta Conjunta', 'Valor Emprestimo', 'Multa', 'Juros',\n",
       "       'Valor Emprestimo Atualizado', 'PAGO', 'ID', 'Genero', 'Estado'],\n",
       "      dtype='object')"
      ]
     },
     "execution_count": 6,
     "metadata": {},
     "output_type": "execute_result"
    }
   ],
   "source": [
    "data.columns"
   ]
  },
  {
   "cell_type": "markdown",
   "metadata": {},
   "source": [
    "**Crio duas colunas no DataFrame, uma com Porcentagem do Valor Real sobre o empréstimo inicial, e outra com a porcentagem da multa sobre o empréstimo inicial. Para facilitar o relacionamento.**"
   ]
  },
  {
   "cell_type": "code",
   "execution_count": 7,
   "metadata": {},
   "outputs": [
    {
     "data": {
      "text/html": [
       "<div>\n",
       "<style scoped>\n",
       "    .dataframe tbody tr th:only-of-type {\n",
       "        vertical-align: middle;\n",
       "    }\n",
       "\n",
       "    .dataframe tbody tr th {\n",
       "        vertical-align: top;\n",
       "    }\n",
       "\n",
       "    .dataframe thead th {\n",
       "        text-align: right;\n",
       "    }\n",
       "</style>\n",
       "<table border=\"1\" class=\"dataframe\">\n",
       "  <thead>\n",
       "    <tr style=\"text-align: right;\">\n",
       "      <th></th>\n",
       "      <th>Escolaridade</th>\n",
       "      <th>Renda Mensal Informal</th>\n",
       "      <th>Dependentes</th>\n",
       "      <th>Estado Civil</th>\n",
       "      <th>Idade</th>\n",
       "      <th>Conta Poupanca</th>\n",
       "      <th>Conta Salario</th>\n",
       "      <th>Quant Adiantamento Deposito</th>\n",
       "      <th>Qtd Fonte Renda</th>\n",
       "      <th>Cheque Sem Fundo</th>\n",
       "      <th>...</th>\n",
       "      <th>Valor Emprestimo</th>\n",
       "      <th>Multa</th>\n",
       "      <th>Juros</th>\n",
       "      <th>Valor Emprestimo Atualizado</th>\n",
       "      <th>PAGO</th>\n",
       "      <th>ID</th>\n",
       "      <th>Genero</th>\n",
       "      <th>Estado</th>\n",
       "      <th>Valor Real Pago %</th>\n",
       "      <th>Multa %</th>\n",
       "    </tr>\n",
       "  </thead>\n",
       "  <tbody>\n",
       "    <tr>\n",
       "      <th>0</th>\n",
       "      <td>NaN</td>\n",
       "      <td>NaN</td>\n",
       "      <td>S</td>\n",
       "      <td>2</td>\n",
       "      <td>36</td>\n",
       "      <td>S</td>\n",
       "      <td>N</td>\n",
       "      <td>NaN</td>\n",
       "      <td>NaN</td>\n",
       "      <td>N</td>\n",
       "      <td>...</td>\n",
       "      <td>8174.32</td>\n",
       "      <td>263.25</td>\n",
       "      <td>5844.98</td>\n",
       "      <td>14282.55</td>\n",
       "      <td>1</td>\n",
       "      <td>1328587.0</td>\n",
       "      <td>1</td>\n",
       "      <td>57</td>\n",
       "      <td>74.724625</td>\n",
       "      <td>3.220451</td>\n",
       "    </tr>\n",
       "    <tr>\n",
       "      <th>1</th>\n",
       "      <td>1.0</td>\n",
       "      <td>1894.5078</td>\n",
       "      <td>N</td>\n",
       "      <td>2</td>\n",
       "      <td>39</td>\n",
       "      <td>S</td>\n",
       "      <td>N</td>\n",
       "      <td>2.0</td>\n",
       "      <td>1.0</td>\n",
       "      <td>S</td>\n",
       "      <td>...</td>\n",
       "      <td>41775.63</td>\n",
       "      <td>1607.29</td>\n",
       "      <td>7652.26</td>\n",
       "      <td>51035.18</td>\n",
       "      <td>1</td>\n",
       "      <td>1424254.0</td>\n",
       "      <td>1</td>\n",
       "      <td>59</td>\n",
       "      <td>22.164956</td>\n",
       "      <td>3.847434</td>\n",
       "    </tr>\n",
       "    <tr>\n",
       "      <th>2</th>\n",
       "      <td>1.0</td>\n",
       "      <td>NaN</td>\n",
       "      <td>S</td>\n",
       "      <td>2</td>\n",
       "      <td>26</td>\n",
       "      <td>S</td>\n",
       "      <td>N</td>\n",
       "      <td>NaN</td>\n",
       "      <td>1.0</td>\n",
       "      <td>S</td>\n",
       "      <td>...</td>\n",
       "      <td>522940.27</td>\n",
       "      <td>24860.40</td>\n",
       "      <td>319315.62</td>\n",
       "      <td>867116.29</td>\n",
       "      <td>1</td>\n",
       "      <td>1438519.0</td>\n",
       "      <td>0</td>\n",
       "      <td>56</td>\n",
       "      <td>65.815551</td>\n",
       "      <td>4.753965</td>\n",
       "    </tr>\n",
       "    <tr>\n",
       "      <th>3</th>\n",
       "      <td>NaN</td>\n",
       "      <td>NaN</td>\n",
       "      <td>N</td>\n",
       "      <td>8</td>\n",
       "      <td>23</td>\n",
       "      <td>N</td>\n",
       "      <td>N</td>\n",
       "      <td>NaN</td>\n",
       "      <td>NaN</td>\n",
       "      <td>N</td>\n",
       "      <td>...</td>\n",
       "      <td>1593.00</td>\n",
       "      <td>21472.36</td>\n",
       "      <td>2967.48</td>\n",
       "      <td>26032.84</td>\n",
       "      <td>1</td>\n",
       "      <td>1426138.0</td>\n",
       "      <td>1</td>\n",
       "      <td>56</td>\n",
       "      <td>1534.202134</td>\n",
       "      <td>1347.919648</td>\n",
       "    </tr>\n",
       "    <tr>\n",
       "      <th>4</th>\n",
       "      <td>NaN</td>\n",
       "      <td>NaN</td>\n",
       "      <td>S</td>\n",
       "      <td>2</td>\n",
       "      <td>33</td>\n",
       "      <td>S</td>\n",
       "      <td>N</td>\n",
       "      <td>NaN</td>\n",
       "      <td>NaN</td>\n",
       "      <td>N</td>\n",
       "      <td>...</td>\n",
       "      <td>2078.97</td>\n",
       "      <td>19.44</td>\n",
       "      <td>46.35</td>\n",
       "      <td>2144.76</td>\n",
       "      <td>1</td>\n",
       "      <td>1474504.0</td>\n",
       "      <td>0</td>\n",
       "      <td>59</td>\n",
       "      <td>3.164548</td>\n",
       "      <td>0.935078</td>\n",
       "    </tr>\n",
       "  </tbody>\n",
       "</table>\n",
       "<p>5 rows × 21 columns</p>\n",
       "</div>"
      ],
      "text/plain": [
       "   Escolaridade  Renda Mensal Informal Dependentes  Estado Civil  Idade  \\\n",
       "0           NaN                    NaN           S             2     36   \n",
       "1           1.0              1894.5078           N             2     39   \n",
       "2           1.0                    NaN           S             2     26   \n",
       "3           NaN                    NaN           N             8     23   \n",
       "4           NaN                    NaN           S             2     33   \n",
       "\n",
       "  Conta Poupanca Conta Salario  Quant Adiantamento Deposito  Qtd Fonte Renda  \\\n",
       "0              S             N                          NaN              NaN   \n",
       "1              S             N                          2.0              1.0   \n",
       "2              S             N                          NaN              1.0   \n",
       "3              N             N                          NaN              NaN   \n",
       "4              S             N                          NaN              NaN   \n",
       "\n",
       "  Cheque Sem Fundo  ... Valor Emprestimo     Multa      Juros  \\\n",
       "0                N  ...          8174.32    263.25    5844.98   \n",
       "1                S  ...         41775.63   1607.29    7652.26   \n",
       "2                S  ...        522940.27  24860.40  319315.62   \n",
       "3                N  ...          1593.00  21472.36    2967.48   \n",
       "4                N  ...          2078.97     19.44      46.35   \n",
       "\n",
       "   Valor Emprestimo Atualizado  PAGO         ID  Genero  Estado  \\\n",
       "0                     14282.55     1  1328587.0       1      57   \n",
       "1                     51035.18     1  1424254.0       1      59   \n",
       "2                    867116.29     1  1438519.0       0      56   \n",
       "3                     26032.84     1  1426138.0       1      56   \n",
       "4                      2144.76     1  1474504.0       0      59   \n",
       "\n",
       "   Valor Real Pago %      Multa %  \n",
       "0          74.724625     3.220451  \n",
       "1          22.164956     3.847434  \n",
       "2          65.815551     4.753965  \n",
       "3        1534.202134  1347.919648  \n",
       "4           3.164548     0.935078  \n",
       "\n",
       "[5 rows x 21 columns]"
      ]
     },
     "execution_count": 7,
     "metadata": {},
     "output_type": "execute_result"
    }
   ],
   "source": [
    "#Cria a coluna Valor Real Pago % e Multa % e adiciona valores\n",
    "\n",
    "data['Valor Real Pago %'] = 0\n",
    "data['Multa %'] = 0\n",
    "\n",
    "def completa_coluna_valor_real(df):\n",
    "    for index, row in df.iterrows():\n",
    "        valor_real = 0\n",
    "        multa_porcentagem = 0\n",
    "        \n",
    "        multa_porcentagem = float((df.loc[index, 'Multa'] * 100) / df.loc[index, 'Valor Emprestimo'])\n",
    "        \n",
    "        valor_real = float(((df.loc[index, 'Valor Emprestimo Atualizado'] - df.loc[index, 'Valor Emprestimo'])/\n",
    "                      df.loc[index, 'Valor Emprestimo']) * 100 ) \n",
    "        \n",
    "        df.loc[index,'Valor Real Pago %'] =  valor_real\n",
    "        df.loc[index,'Multa %'] =  multa_porcentagem\n",
    "        \n",
    "completa_coluna_valor_real(data)  \n",
    "data.head()"
   ]
  },
  {
   "cell_type": "code",
   "execution_count": 8,
   "metadata": {},
   "outputs": [
    {
     "name": "stdout",
     "output_type": "stream",
     "text": [
      "(39853, 21) (10537, 21) 50390\n"
     ]
    }
   ],
   "source": [
    "#Separa DataSet em quem pagou e não pagou emprestimos passados\n",
    "\n",
    "bons_pagadores = data.query('PAGO == 1')\n",
    "mals_pagadores = data.query('PAGO == 0')\n",
    "\n",
    "print(bons_pagadores.shape, mals_pagadores.shape,(bons_pagadores.shape[0] + mals_pagadores.shape[0]) )"
   ]
  },
  {
   "cell_type": "markdown",
   "metadata": {},
   "source": [
    "## Variáveis para análise de Mals pagadores"
   ]
  },
  {
   "cell_type": "markdown",
   "metadata": {},
   "source": [
    "**Reuni as variáveis com maior índice de mals pagadores, são elas:**\n",
    "\n",
    "*Dependentes: 'N' - SEM Dependentes [27% mals pagadores]*\n",
    "\n",
    "*Estado Civil: 'Casado(a) com comunhão parcial de bens' [39% mals pagadores]\n",
    "\n",
    "*Conta Conjunta: 'N' - Sem Conta Conjunta [21% mals pagadores**]* ****Não tão expressivo, mas achei que valia a pena o relacionamento**\n",
    "\n",
    "*Multa: >=30% [~35% mals pagadores]*"
   ]
  },
  {
   "cell_type": "code",
   "execution_count": 9,
   "metadata": {},
   "outputs": [
    {
     "name": "stdout",
     "output_type": "stream",
     "text": [
      "Quantidade de dados: 11844\n",
      "\n",
      "Relacionamento entre SEM dependentes | Casado Comunhão Parcial | Sem Conta Conjunta\n",
      "\n",
      "Bons pagadores: 59.616683552853765%\n",
      "Mals pagadores: 40.383316447146235%\n"
     ]
    }
   ],
   "source": [
    "#Relacionamento entre Dependentes, Estado Civil e Conta Conjunta\n",
    "\n",
    "Relacionamento_Dependentes_EstadoCivil_ContaConjunta_Bons = bons_pagadores.query(\n",
    "    'Dependentes == \"N\" & `Estado Civil` == 4 & `Conta Conjunta` == \"N\"')\n",
    "\n",
    "Relacionamento_Dependentes_EstadoCivil_ContaConjunta_Mals = mals_pagadores.query(\n",
    "    'Dependentes == \"N\" & `Estado Civil` == 4 & `Conta Conjunta` == \"N\"')\n",
    "\n",
    "print(\"Quantidade de dados: {}\\n\".format(Relacionamento_Dependentes_EstadoCivil_ContaConjunta_Bons.shape[0] + \n",
    " Relacionamento_Dependentes_EstadoCivil_ContaConjunta_Mals.shape[0]))\n",
    "\n",
    "porcentagem_Rel_Dep_EC_CC_Bons = (Relacionamento_Dependentes_EstadoCivil_ContaConjunta_Bons.shape[0]/\n",
    "(Relacionamento_Dependentes_EstadoCivil_ContaConjunta_Bons.shape[0] + \n",
    " Relacionamento_Dependentes_EstadoCivil_ContaConjunta_Mals.shape[0])) * 100\n",
    "\n",
    "print('Relacionamento entre SEM dependentes | Casado Comunhão Parcial | Sem Conta Conjunta\\n\\n' +\n",
    "        'Bons pagadores: {}%\\nMals pagadores: {}%'.format(porcentagem_Rel_Dep_EC_CC_Bons, \n",
    "                                                     (100 - porcentagem_Rel_Dep_EC_CC_Bons)))\n"
   ]
  },
  {
   "cell_type": "markdown",
   "metadata": {},
   "source": [
    "**Pouco acrescimo das variaveis de Dependentes e Conta Conjunta, apenas a de Estado Civil já representava quase 39% de mals pagadores. Mas mostra que muitos dos empréstimos com Comunhão parcial também são SEM dependentes e SEM conta conjunto, isso pode ser visto pela quantidade de dados filtrados,somento comunhão parcial tem 13283 valores e essa 11844(89% de semelhança).**"
   ]
  },
  {
   "cell_type": "code",
   "execution_count": 10,
   "metadata": {},
   "outputs": [
    {
     "name": "stdout",
     "output_type": "stream",
     "text": [
      "Quantidade de dados: 31094\n",
      "\n",
      "Relacionamento entre SEM dependentes | Sem Conta Conjunta\n",
      "\n",
      "Bons pagadores: 72.43841255547694%\n",
      "Mals pagadores: 27.561587444523056%\n"
     ]
    }
   ],
   "source": [
    "#Relacionamento entre Dependentes e Conta Conjunta\n",
    "\n",
    "Relacionamento_Dependentes_ContaConjunta_Bons = bons_pagadores.query(\n",
    "    'Dependentes == \"N\" & `Conta Conjunta` == \"N\"')\n",
    "\n",
    "Relacionamento_Dependentes_ContaConjunta_Mals = mals_pagadores.query(\n",
    "    'Dependentes == \"N\" & `Conta Conjunta` == \"N\"')\n",
    "\n",
    "print(\"Quantidade de dados: {}\\n\".format(Relacionamento_Dependentes_ContaConjunta_Bons.shape[0] + \n",
    " Relacionamento_Dependentes_ContaConjunta_Mals.shape[0]))\n",
    "\n",
    "\n",
    "porcentagem_Rel_Dep_CC_Bons = (Relacionamento_Dependentes_ContaConjunta_Bons.shape[0]/\n",
    "(Relacionamento_Dependentes_ContaConjunta_Bons.shape[0] + \n",
    " Relacionamento_Dependentes_ContaConjunta_Mals.shape[0])) * 100\n",
    "\n",
    "print('Relacionamento entre SEM dependentes | Sem Conta Conjunta\\n\\n' +\n",
    "        'Bons pagadores: {}%\\nMals pagadores: {}%'.format(porcentagem_Rel_Dep_CC_Bons, \n",
    "                                                     (100 - porcentagem_Rel_Dep_CC_Bons)))"
   ]
  },
  {
   "cell_type": "markdown",
   "metadata": {},
   "source": [
    "**Como foi comentado anteriormente, ambas variáveis Dependentes e Conta Conjunta tem sua importancia mas não são tão influêntes em mals pagadores.**"
   ]
  },
  {
   "cell_type": "code",
   "execution_count": 11,
   "metadata": {},
   "outputs": [
    {
     "name": "stdout",
     "output_type": "stream",
     "text": [
      "Quantidade de dados: 11915\n",
      "\n",
      "Relacionamento entre SEM dependentes | Casado Comunhão Parcial\n",
      "\n",
      "Bons pagadores: 59.64750314729332%\n",
      "Mals pagadores: 40.35249685270668%\n"
     ]
    }
   ],
   "source": [
    "#Relacionamento casado parcial e SEM depedentes\n",
    "Relacionamento_Dependentes_EstadoCivil_Bons = bons_pagadores.query(\n",
    "    'Dependentes == \"N\" & `Estado Civil` == 4')\n",
    "\n",
    "Relacionamento_Dependentes_EstadoCivil_Mals = mals_pagadores.query(\n",
    "    'Dependentes == \"N\" & `Estado Civil` == 4')\n",
    "\n",
    "#Print quantidade de dados filtrados\n",
    "print(\"Quantidade de dados: {}\\n\".format(Relacionamento_Dependentes_EstadoCivil_Bons.shape[0] + \n",
    " Relacionamento_Dependentes_EstadoCivil_Mals.shape[0]))\n",
    "\n",
    "\n",
    "porcentagem_Rel_Dep_EC_Bons = (Relacionamento_Dependentes_EstadoCivil_Bons.shape[0]/\n",
    "(Relacionamento_Dependentes_EstadoCivil_Bons.shape[0] + \n",
    " Relacionamento_Dependentes_EstadoCivil_Mals.shape[0])) * 100\n",
    "\n",
    "print('Relacionamento entre SEM dependentes | Casado Comunhão Parcial\\n\\n' +\n",
    "        'Bons pagadores: {}%\\nMals pagadores: {}%'.format(porcentagem_Rel_Dep_EC_Bons, \n",
    "                                                     (100 - porcentagem_Rel_Dep_EC_Bons)))\n"
   ]
  },
  {
   "cell_type": "markdown",
   "metadata": {},
   "source": [
    "**Relação bem parecida com as outras relações acima, Estado Cívil tem mais força que Dependentes.**"
   ]
  },
  {
   "cell_type": "code",
   "execution_count": 12,
   "metadata": {},
   "outputs": [
    {
     "name": "stdout",
     "output_type": "stream",
     "text": [
      "52250\n"
     ]
    }
   ],
   "source": [
    "salarioMinimo = 1045\n",
    "print(salarioMinimo * 50)"
   ]
  },
  {
   "cell_type": "code",
   "execution_count": 13,
   "metadata": {},
   "outputs": [
    {
     "name": "stdout",
     "output_type": "stream",
     "text": [
      "Quantidade de dados: 84\n",
      "\n",
      "Relacionamento entre Renda Informal Maior que 50 salários Mínimos | Idade Maior que 60 anos\n",
      "\n",
      "Bons pagadores: 40.476190476190474%\n",
      "Mals pagadores: 59.523809523809526%\n"
     ]
    }
   ],
   "source": [
    "#Relacionamento entre Renda Informal e Idade\n",
    "\n",
    "Relacionamento_RendaInformal_Idade_Bons = bons_pagadores.query(\n",
    "    '`Renda Mensal Informal` >= 52250 & `Idade` >= 60')\n",
    "\n",
    "Relacionamento_RendaInformal_Idade_Mals = mals_pagadores.query(\n",
    "    '`Renda Mensal Informal` >= 52250 & `Idade` >= 60')\n",
    "\n",
    "print(\"Quantidade de dados: {}\\n\".format(Relacionamento_RendaInformal_Idade_Bons.shape[0] + \n",
    " Relacionamento_RendaInformal_Idade_Mals.shape[0]))\n",
    "\n",
    "porcentagem_RendaInformal_Idade_Bons = (Relacionamento_RendaInformal_Idade_Bons.shape[0]/\n",
    "(Relacionamento_RendaInformal_Idade_Bons.shape[0] + \n",
    " Relacionamento_RendaInformal_Idade_Mals.shape[0])) * 100\n",
    "\n",
    "print('Relacionamento entre Renda Informal Maior que 50 salários Mínimos | Idade Maior que 60 anos\\n\\n' +\n",
    "        'Bons pagadores: {}%\\nMals pagadores: {}%'.format(porcentagem_RendaInformal_Idade_Bons, \n",
    "                                                     (100 - porcentagem_RendaInformal_Idade_Bons)))"
   ]
  },
  {
   "cell_type": "markdown",
   "metadata": {},
   "source": [
    "**Apenas um teste, mesmo sabendo da pequena quantidade de dados entre os dois parâmetros análisados. Valor bem alto para mals pagadores. Interessantes mas duvidoso, seria bom uma análise também com o valor do emprestimo.**"
   ]
  },
  {
   "cell_type": "code",
   "execution_count": 14,
   "metadata": {},
   "outputs": [
    {
     "name": "stdout",
     "output_type": "stream",
     "text": [
      "Quantidade de dados: 7254\n",
      "\n",
      "Relacionamento entre Casado Comunhão Parcial | Valor Real Pago > 80%\n",
      "\n",
      "Bons pagadores: 46.084918665563826%\n",
      "Mals pagadores: 53.915081334436174%\n"
     ]
    }
   ],
   "source": [
    "#Relacionamento casado parcial, valor real pago > 80%\n",
    "Relacionamento_Dependentes_EstadoCivil_VRP_Bons = bons_pagadores.query(\n",
    "    '`Estado Civil` == 4 & `Valor Real Pago %` > 80')\n",
    "\n",
    "Relacionamento_Dependentes_EstadoCivil_VRP_Mals = mals_pagadores.query(\n",
    "    '`Estado Civil` == 4 & `Valor Real Pago %` > 80')\n",
    "\n",
    "#Print quantidade de dados filtrados\n",
    "print(\"Quantidade de dados: {}\\n\".format(Relacionamento_Dependentes_EstadoCivil_VRP_Bons.shape[0] + \n",
    " Relacionamento_Dependentes_EstadoCivil_VRP_Mals.shape[0]))\n",
    "\n",
    "\n",
    "porcentagem_Rel_Dep_EC_VRP_Bons = (Relacionamento_Dependentes_EstadoCivil_VRP_Bons.shape[0]/\n",
    "(Relacionamento_Dependentes_EstadoCivil_VRP_Bons.shape[0] + \n",
    " Relacionamento_Dependentes_EstadoCivil_VRP_Mals.shape[0])) * 100\n",
    "\n",
    "print('Relacionamento entre Casado Comunhão Parcial | Valor Real Pago > 80%\\n\\n' +\n",
    "        'Bons pagadores: {}%\\nMals pagadores: {}%'.format(porcentagem_Rel_Dep_EC_VRP_Bons, \n",
    "                                                     (100 - porcentagem_Rel_Dep_EC_VRP_Bons)))\n",
    "\n"
   ]
  },
  {
   "cell_type": "markdown",
   "metadata": {},
   "source": [
    "**A maior porcentagem de mals pagadores das relações analisadas. Em 14% do banco temos quase de 54% de mals pagadores. Ambas variáveis tem pesos notáveis nessa relação, não é uma relação tão obvia mas que é muito expressiva para futuras predições.**"
   ]
  },
  {
   "cell_type": "code",
   "execution_count": 15,
   "metadata": {},
   "outputs": [
    {
     "name": "stdout",
     "output_type": "stream",
     "text": [
      "Quantidade de dados: 7768\n",
      "\n",
      "Relacionamento entre Casado Comunhão Parcial | Com Multa maior que 30%\n",
      "\n",
      "Bons pagadores: 44.812049433573634%\n",
      "Mals pagadores: 55.187950566426366%\n"
     ]
    }
   ],
   "source": [
    "#Relacionamento casado parcial e Multa > 30%\n",
    "Relacionamento_Dependentes_EstadoCivil_Multa_Bons = bons_pagadores.query(\n",
    "    '`Estado Civil` == 4 & `Multa %` >= 30')\n",
    "\n",
    "Relacionamento_Dependentes_EstadoCivil_Multa_Mals = mals_pagadores.query(\n",
    "    '`Estado Civil` == 4 & `Multa %` >= 30')\n",
    "\n",
    "#Print quantidade de dados filtrados\n",
    "print(\"Quantidade de dados: {}\\n\".format(Relacionamento_Dependentes_EstadoCivil_Multa_Bons.shape[0] + \n",
    " Relacionamento_Dependentes_EstadoCivil_Multa_Mals.shape[0]))\n",
    "\n",
    "\n",
    "porcentagem_Dependentes_EstadoCivil_Multa_Bons = (Relacionamento_Dependentes_EstadoCivil_Multa_Bons.shape[0]/\n",
    "(Relacionamento_Dependentes_EstadoCivil_Multa_Bons.shape[0] + \n",
    " Relacionamento_Dependentes_EstadoCivil_Multa_Mals.shape[0])) * 100\n",
    "\n",
    "print('Relacionamento entre Casado Comunhão Parcial | Com Multa maior que 30%\\n\\n' +\n",
    "        'Bons pagadores: {}%\\nMals pagadores: {}%'.format(porcentagem_Dependentes_EstadoCivil_Multa_Bons, \n",
    "                                                     (100 - porcentagem_Dependentes_EstadoCivil_Multa_Bons)))"
   ]
  },
  {
   "cell_type": "markdown",
   "metadata": {},
   "source": [
    "**Bem parecida com a análise acima. Essas são as duas variáveis com os melhores valores individuais para predição de mals pagadores, e quando combinadas aumentaram esse índice.**"
   ]
  },
  {
   "cell_type": "code",
   "execution_count": 16,
   "metadata": {},
   "outputs": [
    {
     "name": "stdout",
     "output_type": "stream",
     "text": [
      "Quantidade de dados: 18663\n",
      "\n",
      "Relacionamento entre SEM Cheque Sem Fundo | Com Multa maior que 30%\n",
      "\n",
      "Bons pagadores: 60.0868027648288%\n",
      "Mals pagadores: 39.9131972351712%\n"
     ]
    }
   ],
   "source": [
    "#Relacionamento SEM Cheque Sem Fundo e Multa > 30%\n",
    "Relacionamento_Dependentes_EstadoCivil_Multa_Bons = bons_pagadores.query(\n",
    "    '`Cheque Sem Fundo` == \"N\" & `Multa %` >= 30')\n",
    "\n",
    "Relacionamento_Dependentes_EstadoCivil_Multa_Mals = mals_pagadores.query(\n",
    "    '`Cheque Sem Fundo` == \"N\" & `Multa %` >= 30')\n",
    "\n",
    "#Print quantidade de dados filtrados\n",
    "print(\"Quantidade de dados: {}\\n\".format(Relacionamento_Dependentes_EstadoCivil_Multa_Bons.shape[0] + \n",
    " Relacionamento_Dependentes_EstadoCivil_Multa_Mals.shape[0]))\n",
    "\n",
    "\n",
    "porcentagem_Dependentes_EstadoCivil_Multa_Bons = (Relacionamento_Dependentes_EstadoCivil_Multa_Bons.shape[0]/\n",
    "(Relacionamento_Dependentes_EstadoCivil_Multa_Bons.shape[0] + \n",
    " Relacionamento_Dependentes_EstadoCivil_Multa_Mals.shape[0])) * 100\n",
    "\n",
    "print('Relacionamento entre SEM Cheque Sem Fundo | Com Multa maior que 30%\\n\\n' +\n",
    "        'Bons pagadores: {}%\\nMals pagadores: {}%'.format(porcentagem_Dependentes_EstadoCivil_Multa_Bons, \n",
    "                                                     (100 - porcentagem_Dependentes_EstadoCivil_Multa_Bons)))"
   ]
  },
  {
   "cell_type": "markdown",
   "metadata": {},
   "source": [
    "**Um bom resultado, com uma quantidade de dados maior, mesmo sendo duvidosa a utilização da variável Cheque Sem Fundo = 'N' para encontrar mals pagadores.**"
   ]
  },
  {
   "cell_type": "markdown",
   "metadata": {},
   "source": [
    "## Variáveis para análise de Bons pagadores"
   ]
  },
  {
   "cell_type": "markdown",
   "metadata": {},
   "source": [
    "**Reuni as variáveis com maior índice de bons pagadores, são elas:**\n",
    "\n",
    "*Cheque Sem Fundo: 'S'[90% bons pagadores]*\n",
    "\n",
    "*Estado Civil: '2' - Solteiro [89% bons pagadores]*\n",
    "\n",
    "*Escolaridade: Ensino Médio [90% bons pagadores]* \n",
    "\n",
    "*Dependentes: 'S' [90% bons pagadores]*\n",
    "\n",
    "*Valor Real: <=60% [~90% bons pagadores]*\n",
    "\n",
    "*Multa: <=10% [94,5% bons pagadores]*"
   ]
  },
  {
   "cell_type": "code",
   "execution_count": 17,
   "metadata": {},
   "outputs": [
    {
     "name": "stdout",
     "output_type": "stream",
     "text": [
      "Quantidade de dados: 1055\n",
      "\n",
      "Relacionamento entre COM Cheque Sem Fundo | Solteiro | Ensino Médio | COM Dependentes | Valor Real <=60% | Multa <= 10%\n",
      "\n",
      "Bons pagadores: 95.54502369668246%\n",
      "Mals pagadores: 4.454976303317537%\n"
     ]
    }
   ],
   "source": [
    "#Relacionamento entre todas as variáveis\n",
    "\n",
    "Relacionamento_chequeSemFundo_EC_Escol_Dep_VR_Multa_Bons = bons_pagadores.query(\n",
    "    '`Cheque Sem Fundo` == \"S\" & `Estado Civil` == 2 & Escolaridade == 1 & \\\n",
    "    Dependentes == \"S\" & `Valor Real Pago %` <= 60 & `Multa %` <= 10' )\n",
    "\n",
    "Relacionamento_chequeSemFundo_EC_Escol_Dep_VR_Multa_Mals = mals_pagadores.query(\n",
    "    '`Cheque Sem Fundo` == \"S\" & `Estado Civil` == 2 & Escolaridade == 1 & \\\n",
    "    Dependentes == \"S\" & `Valor Real Pago %` <= 60 & `Multa %` <= 10' )\n",
    "\n",
    "#Print quantidade de dados filtrados\n",
    "print(\"Quantidade de dados: {}\\n\".format(Relacionamento_chequeSemFundo_EC_Escol_Dep_VR_Multa_Bons.shape[0] + \n",
    " Relacionamento_chequeSemFundo_EC_Escol_Dep_VR_Multa_Mals.shape[0]))\n",
    "\n",
    "\n",
    "porcentagem_chequeSemFundo_EC_Escol_Dep_VR_Multa_Bons = (Relacionamento_chequeSemFundo_EC_Escol_Dep_VR_Multa_Bons.shape[0]/\n",
    "(Relacionamento_chequeSemFundo_EC_Escol_Dep_VR_Multa_Bons.shape[0] + \n",
    " Relacionamento_chequeSemFundo_EC_Escol_Dep_VR_Multa_Mals.shape[0])) * 100\n",
    "\n",
    "print('Relacionamento entre COM Cheque Sem Fundo | Solteiro | Ensino Médio | COM Dependentes \\\n",
    "| Valor Real <=60% | Multa <= 10%\\n\\n' +\n",
    "        'Bons pagadores: {}%\\nMals pagadores: {}%'.format(porcentagem_chequeSemFundo_EC_Escol_Dep_VR_Multa_Bons, \n",
    "                                                     (100 - porcentagem_chequeSemFundo_EC_Escol_Dep_VR_Multa_Bons)))\n"
   ]
  },
  {
   "cell_type": "markdown",
   "metadata": {},
   "source": [
    "**Resultado muito bom, mas conta com apenas 2% da base, quanto mais parâmetros como esses a pessoas tiver, maior a chance de ela ser uma boa pagadora.**"
   ]
  },
  {
   "cell_type": "code",
   "execution_count": 18,
   "metadata": {},
   "outputs": [
    {
     "name": "stdout",
     "output_type": "stream",
     "text": [
      "Quantidade de dados: 6534\n",
      "\n",
      "Relacionamento entre Estado Civil: Solteiro | Escolaridade: Ensino Médio | COM Dependentes\n",
      "\n",
      "Bons pagadores: 92.30180593816958%\n",
      "Mals pagadores: 7.698194061830421%\n"
     ]
    }
   ],
   "source": [
    "#Relação entre Estado Civil, Dependentes e Escolaridade\n",
    "\n",
    "Relacionamento_EC_Escol_Dep_Bons = bons_pagadores.query(\n",
    "    '`Estado Civil` == 2 & Escolaridade == 1 & Dependentes == \"S\"' )\n",
    "\n",
    "Relacionamento_EC_Escol_Dep_Mals = mals_pagadores.query(\n",
    "    '`Estado Civil` == 2 & Escolaridade == 1 & Dependentes == \"S\"' )\n",
    "\n",
    "#Print quantidade de dados filtrados\n",
    "print(\"Quantidade de dados: {}\\n\".format(Relacionamento_EC_Escol_Dep_Bons.shape[0] + \n",
    " Relacionamento_EC_Escol_Dep_Mals.shape[0]))\n",
    "\n",
    "\n",
    "porcentagem_EC_Escol_Dep_Bons = (Relacionamento_EC_Escol_Dep_Bons.shape[0]/\n",
    "(Relacionamento_EC_Escol_Dep_Bons.shape[0] + Relacionamento_EC_Escol_Dep_Mals.shape[0])) * 100\n",
    "\n",
    "print('Relacionamento entre Estado Civil: Solteiro | Escolaridade: Ensino Médio | COM Dependentes\\n\\n' +\n",
    "        'Bons pagadores: {}%\\nMals pagadores: {}%'.format(porcentagem_EC_Escol_Dep_Bons, \n",
    "                                                     (100 - porcentagem_EC_Escol_Dep_Bons)))\n"
   ]
  },
  {
   "cell_type": "markdown",
   "metadata": {},
   "source": [
    "**Amostra 6 vezes maior que a anterior com bons 92%**"
   ]
  },
  {
   "cell_type": "code",
   "execution_count": 19,
   "metadata": {},
   "outputs": [
    {
     "name": "stdout",
     "output_type": "stream",
     "text": [
      "Quantidade de dados: 15785\n",
      "\n",
      "Relacionamento entre Estado Civil: Solteiro | COM Dependentes\n",
      "\n",
      "Bons pagadores: 92.09375989863796%\n",
      "Mals pagadores: 7.9062401013620445%\n"
     ]
    }
   ],
   "source": [
    "#Relação entre Estado Civil e Dependentes\n",
    "\n",
    "Relacionamento_EC_Dep_Bons = bons_pagadores.query(\n",
    "    '`Estado Civil` == 2 & Dependentes == \"S\"' )\n",
    "\n",
    "Relacionamento_EC_Dep_Mals = mals_pagadores.query(\n",
    "    '`Estado Civil` == 2 & Dependentes == \"S\"' )\n",
    "\n",
    "#Print quantidade de dados filtrados\n",
    "print(\"Quantidade de dados: {}\\n\".format(Relacionamento_EC_Dep_Bons.shape[0] + \n",
    " Relacionamento_EC_Dep_Mals.shape[0]))\n",
    "\n",
    "\n",
    "porcentagem_EC_Dep_Bons = (Relacionamento_EC_Dep_Bons.shape[0]/\n",
    "(Relacionamento_EC_Dep_Bons.shape[0] + Relacionamento_EC_Dep_Mals.shape[0])) * 100\n",
    "\n",
    "print('Relacionamento entre Estado Civil: Solteiro | COM Dependentes\\n\\n' +\n",
    "        'Bons pagadores: {}%\\nMals pagadores: {}%'.format(porcentagem_EC_Dep_Bons, \n",
    "                                                     (100 - porcentagem_EC_Dep_Bons)))\n"
   ]
  },
  {
   "cell_type": "markdown",
   "metadata": {},
   "source": [
    "**Com 30% do banco, Pessoas Solteiras e COM Dependentes são melhores pagadoras. Um dado não tanto intuitivo, não se espera que haja tantas pessoas solteiras com dependentes.**"
   ]
  },
  {
   "cell_type": "code",
   "execution_count": 20,
   "metadata": {},
   "outputs": [
    {
     "name": "stdout",
     "output_type": "stream",
     "text": [
      "Quantidade de dados: 12358\n",
      "\n",
      "Relacionamento entre Estado Civil: Solteiro | Escolaridade: Ensino Médio\n",
      "\n",
      "Bons pagadores: 90.21686357015697%\n",
      "Mals pagadores: 9.783136429843026%\n"
     ]
    }
   ],
   "source": [
    "#Relação Estado Civil e Escolaridade\n",
    "\n",
    "Relacionamento_EC_Escol_Bons = bons_pagadores.query(\n",
    "    '`Estado Civil` == 2 & Escolaridade == 1' )\n",
    "\n",
    "Relacionamento_EC_Escol_Mals = mals_pagadores.query(\n",
    "    '`Estado Civil` == 2 & Escolaridade == 1' )\n",
    "\n",
    "#Print quantidade de dados filtrados\n",
    "print(\"Quantidade de dados: {}\\n\".format(Relacionamento_EC_Escol_Bons.shape[0] + \n",
    " Relacionamento_EC_Escol_Mals.shape[0]))\n",
    "\n",
    "\n",
    "porcentagem_EC_Escol_Bons = (Relacionamento_EC_Escol_Bons.shape[0]/\n",
    "(Relacionamento_EC_Escol_Bons.shape[0] + Relacionamento_EC_Escol_Mals.shape[0])) * 100\n",
    "\n",
    "print('Relacionamento entre Estado Civil: Solteiro | Escolaridade: Ensino Médio\\n\\n' +\n",
    "        'Bons pagadores: {}%\\nMals pagadores: {}%'.format(porcentagem_EC_Escol_Bons, \n",
    "                                                     (100 - porcentagem_EC_Escol_Bons)))\n"
   ]
  },
  {
   "cell_type": "markdown",
   "metadata": {},
   "source": [
    "**Essa combinação não foi tão efetiva, apenas a variável de Escolaridade já engloba 89% de bons pagadores e tem por volta de 12 mil de amostra.**"
   ]
  },
  {
   "cell_type": "code",
   "execution_count": 21,
   "metadata": {},
   "outputs": [
    {
     "name": "stdout",
     "output_type": "stream",
     "text": [
      "Quantidade de dados: 6693\n",
      "\n",
      "Relacionamento entre Escolaridade: Ensino Médio | COM Dependentes\n",
      "\n",
      "Bons pagadores: 92.23068877932168%\n",
      "Mals pagadores: 7.769311220678318%\n"
     ]
    }
   ],
   "source": [
    "#Relacionamento Escolaridade, Dependentes\n",
    "\n",
    "Relacionamento_Escol_Dep_Bons = bons_pagadores.query(\n",
    "    'Escolaridade == 1 & Dependentes == \"S\"' )\n",
    "\n",
    "Relacionamento_Escol_Dep_Mals = mals_pagadores.query(\n",
    "    'Escolaridade == 1 & Dependentes == \"S\"' )\n",
    "\n",
    "#Print quantidade de dados filtrados\n",
    "print(\"Quantidade de dados: {}\\n\".format(Relacionamento_Escol_Dep_Bons.shape[0] + \n",
    " Relacionamento_Escol_Dep_Mals.shape[0]))\n",
    "\n",
    "\n",
    "porcentagem_Escol_Dep_Bons = (Relacionamento_Escol_Dep_Bons.shape[0]/\n",
    "(Relacionamento_Escol_Dep_Bons.shape[0] + Relacionamento_Escol_Dep_Mals.shape[0])) * 100\n",
    "\n",
    "print('Relacionamento entre Escolaridade: Ensino Médio | COM Dependentes\\n\\n' +\n",
    "        'Bons pagadores: {}%\\nMals pagadores: {}%'.format(porcentagem_Escol_Dep_Bons, \n",
    "                                                     (100 - porcentagem_Escol_Dep_Bons)))\n"
   ]
  },
  {
   "cell_type": "markdown",
   "metadata": {},
   "source": [
    "**Um pequeno aumento da porcentagem de bons pagadores, mas uma redução por volta de 50% da quantidade de dados em comparação com a variável Escoaridade: Ensino Médio individualmente. Isso mostra uma divisão quase igualitária dentre que tem Ensino Médio em relação a COM/SEM Dependentes.**"
   ]
  },
  {
   "cell_type": "code",
   "execution_count": 22,
   "metadata": {},
   "outputs": [
    {
     "name": "stdout",
     "output_type": "stream",
     "text": [
      "Quantidade de dados: 5713\n",
      "\n",
      "Relacionamento entre COM Cheque Sem Fundo | Valor Real <=60% | Multa <= 20%\n",
      "\n",
      "Bons pagadores: 96.09662173989148%\n",
      "Mals pagadores: 3.903378260108525%\n"
     ]
    }
   ],
   "source": [
    "#Relação Cheque Sem Fundo | Valor Real | Multa\n",
    "\n",
    "Relacionamento_chequeSemFundo_VR_Multa_Bons = bons_pagadores.query(\n",
    "    '`Cheque Sem Fundo` == \"S\" & `Valor Real Pago %` <= 60 & `Multa %` <= 10' )\n",
    "\n",
    "Relacionamento_chequeSemFundo_VR_Multa_Mals = mals_pagadores.query(\n",
    "    '`Cheque Sem Fundo` == \"S\" & `Valor Real Pago %` <= 60 & `Multa %` <= 10' )\n",
    "\n",
    "#Print quantidade de dados filtrados\n",
    "print(\"Quantidade de dados: {}\\n\".format(Relacionamento_chequeSemFundo_VR_Multa_Bons.shape[0] + \n",
    " Relacionamento_chequeSemFundo_VR_Multa_Mals.shape[0]))\n",
    "\n",
    "\n",
    "porcentagem_chequeSemFundo_VR_Multa_Bons = (Relacionamento_chequeSemFundo_VR_Multa_Bons.shape[0]/\n",
    "(Relacionamento_chequeSemFundo_VR_Multa_Bons.shape[0] + \n",
    " Relacionamento_chequeSemFundo_VR_Multa_Mals.shape[0])) * 100\n",
    "\n",
    "print('Relacionamento entre COM Cheque Sem Fundo | Valor Real <=60% | Multa <= 20%\\n\\n' +\n",
    "        'Bons pagadores: {}%\\nMals pagadores: {}%'.format(porcentagem_chequeSemFundo_VR_Multa_Bons, \n",
    "                                                     (100 - porcentagem_chequeSemFundo_VR_Multa_Bons)))\n"
   ]
  },
  {
   "cell_type": "markdown",
   "metadata": {},
   "source": [
    "**Porcentagem alta, mas apenas a análise da multa se mostra mais eficiente ao se ver a quantidade de dados, 5713 nesse com 96% para 94,5% em 22173 na análise individual da multa <=10%.**"
   ]
  },
  {
   "cell_type": "code",
   "execution_count": 23,
   "metadata": {},
   "outputs": [
    {
     "name": "stdout",
     "output_type": "stream",
     "text": [
      "Quantidade de dados: 19841\n",
      "\n",
      "Relacionamento entre Valor Real <=60% | Multa <= 10%\n",
      "\n",
      "Bons pagadores: 94.1636006249685%\n",
      "Mals pagadores: 5.836399375031505%\n"
     ]
    }
   ],
   "source": [
    "#Relação Valor Real e Multa\n",
    "\n",
    "Relacionamento_VR_Multa_Bons = bons_pagadores.query(\n",
    "    '`Valor Real Pago %` <= 60 & `Multa %` <= 10' )\n",
    "\n",
    "Relacionamento_VR_Multa_Mals = mals_pagadores.query(\n",
    "    '`Valor Real Pago %` <= 60 & `Multa %` <= 10' )\n",
    "\n",
    "#Print quantidade de dados filtrados\n",
    "print(\"Quantidade de dados: {}\\n\".format(Relacionamento_VR_Multa_Bons.shape[0] + \n",
    " Relacionamento_VR_Multa_Mals.shape[0]))\n",
    "\n",
    "\n",
    "porcentagem_VR_Multa_Bons = (Relacionamento_VR_Multa_Bons.shape[0]/\n",
    "(Relacionamento_VR_Multa_Bons.shape[0] + \n",
    " Relacionamento_VR_Multa_Mals.shape[0])) * 100\n",
    "\n",
    "print('Relacionamento entre Valor Real <=60% | Multa <= 10%\\n\\n' +\n",
    "        'Bons pagadores: {}%\\nMals pagadores: {}%'.format(porcentagem_VR_Multa_Bons, \n",
    "                                                     (100 - porcentagem_VR_Multa_Bons)))"
   ]
  },
  {
   "cell_type": "markdown",
   "metadata": {},
   "source": [
    "**Esse relacionamento mostra o quão próximo estão essas duas variáveis, houve pouca redução na amostragem. Mas a análise individual da multa ainda tem aspectos melhores.**"
   ]
  },
  {
   "cell_type": "code",
   "execution_count": 24,
   "metadata": {},
   "outputs": [
    {
     "name": "stdout",
     "output_type": "stream",
     "text": [
      "Quantidade de dados: 14835\n",
      "\n",
      "Relacionamento entre Estado Civil: Solteiro | Multa <= 10%\n",
      "\n",
      "Bons pagadores: 95.18705763397371%\n",
      "Mals pagadores: 4.8129423660262916%\n"
     ]
    }
   ],
   "source": [
    "#Relação Estado Civil e Multa\n",
    "\n",
    "Relacionamento_EC_Multa_Bons = bons_pagadores.query(\n",
    "    '`Estado Civil` == 2 & `Multa %` <= 10' )\n",
    "\n",
    "Relacionamento_EC_Multa_Mals = mals_pagadores.query(\n",
    "    '`Estado Civil` == 2 & `Multa %` <= 10' )\n",
    "\n",
    "#Print quantidade de dados filtrados\n",
    "print(\"Quantidade de dados: {}\\n\".format(Relacionamento_EC_Multa_Bons.shape[0] + \n",
    " Relacionamento_EC_Multa_Mals.shape[0]))\n",
    "\n",
    "\n",
    "porcentagem_EC_Multa_Bons = (Relacionamento_EC_Multa_Bons.shape[0]/\n",
    "(Relacionamento_EC_Multa_Bons.shape[0] + \n",
    " Relacionamento_EC_Multa_Mals.shape[0])) * 100\n",
    "\n",
    "print('Relacionamento entre Estado Civil: Solteiro | Multa <= 10%\\n\\n' +\n",
    "        'Bons pagadores: {}%\\nMals pagadores: {}%'.format(porcentagem_EC_Multa_Bons, \n",
    "                                                     (100 - porcentagem_EC_Multa_Bons)))"
   ]
  },
  {
   "cell_type": "markdown",
   "metadata": {},
   "source": [
    "**Essa faz relação das duas variáveis com maior número de amostras individuais, um bom indicativo.**"
   ]
  },
  {
   "cell_type": "code",
   "execution_count": 25,
   "metadata": {},
   "outputs": [
    {
     "name": "stdout",
     "output_type": "stream",
     "text": [
      "Quantidade de dados: 6702\n",
      "\n",
      "Relacionamento entre Escolaridade: Ensino Médio | Multa <= 10%\n",
      "\n",
      "Bons pagadores: 95.29991047448523%\n",
      "Mals pagadores: 4.70008952551477%\n"
     ]
    }
   ],
   "source": [
    "#Relação Escolaridade e Multa\n",
    "\n",
    "Relacionamento_Escol_Multa_Bons = bons_pagadores.query(\n",
    "    'Escolaridade == 1 & `Multa %` <= 10' )\n",
    "\n",
    "Relacionamento_Escol_Multa_Mals = mals_pagadores.query(\n",
    "    'Escolaridade == 1 & `Multa %` <= 10' )\n",
    "\n",
    "#Print quantidade de dados filtrados\n",
    "print(\"Quantidade de dados: {}\\n\".format(Relacionamento_Escol_Multa_Bons.shape[0] + \n",
    " Relacionamento_Escol_Multa_Mals.shape[0]))\n",
    "\n",
    "\n",
    "porcentagem_Escol_Multa_Bons = (Relacionamento_Escol_Multa_Bons.shape[0]/\n",
    "(Relacionamento_Escol_Multa_Bons.shape[0] + \n",
    " Relacionamento_Escol_Multa_Mals.shape[0])) * 100\n",
    "\n",
    "print('Relacionamento entre Escolaridade: Ensino Médio | Multa <= 10%\\n\\n' +\n",
    "        'Bons pagadores: {}%\\nMals pagadores: {}%'.format(porcentagem_Escol_Multa_Bons, \n",
    "                                                     (100 - porcentagem_Escol_Multa_Bons)))"
   ]
  },
  {
   "cell_type": "markdown",
   "metadata": {},
   "source": [
    "**Outra vez a análise da Multa individual tem mais sentido, amostra foi muito reduzida.**"
   ]
  },
  {
   "cell_type": "code",
   "execution_count": 26,
   "metadata": {},
   "outputs": [
    {
     "name": "stdout",
     "output_type": "stream",
     "text": [
      "Quantidade de dados: 6351\n",
      "\n",
      "Relacionamento entre COM Cheque sem fundo | Com Multa menor que 10%\n",
      "\n",
      "Bons pagadores: 96.3785230672335%\n",
      "Mals pagadores: 3.621476932766498%\n"
     ]
    }
   ],
   "source": [
    "#Relacionamento COM Cheque Sem Fundo e Multa\n",
    "Relacionamento_chequeSemFundo_Multa_Bons = bons_pagadores.query(\n",
    "    '`Cheque Sem Fundo` == \"S\" & `Multa %` <= 10')\n",
    "\n",
    "Relacionamento_chequeSemFundo_Multa_Mals = mals_pagadores.query(\n",
    "    '`Cheque Sem Fundo` == \"S\" & `Multa %` <= 10')\n",
    "\n",
    "#Print quantidade de dados filtrados\n",
    "print(\"Quantidade de dados: {}\\n\".format(Relacionamento_chequeSemFundo_Multa_Bons.shape[0] + \n",
    " Relacionamento_chequeSemFundo_Multa_Mals.shape[0]))\n",
    "\n",
    "\n",
    "porcentagem_chequeSemFundo_Multa_Bons = (Relacionamento_chequeSemFundo_Multa_Bons.shape[0]/\n",
    "(Relacionamento_chequeSemFundo_Multa_Bons.shape[0] + \n",
    " Relacionamento_chequeSemFundo_Multa_Mals.shape[0])) * 100\n",
    "\n",
    "print('Relacionamento entre COM Cheque sem fundo | Com Multa menor que 10%\\n\\n' +\n",
    "        'Bons pagadores: {}%\\nMals pagadores: {}%'.format(porcentagem_chequeSemFundo_Multa_Bons, \n",
    "                                                     (100 - porcentagem_chequeSemFundo_Multa_Bons)))"
   ]
  },
  {
   "cell_type": "markdown",
   "metadata": {},
   "source": [
    "**Uma boa porcentagem, mas muito estranho bons pagadores apresentarem Cheque sem fundo na sua ficha de empréstimo.**"
   ]
  },
  {
   "cell_type": "markdown",
   "metadata": {},
   "source": [
    "**Dentre as variáveis analisadas, o banco estava bem completo, com exceção de 'Renda Informal' e 'Escolaridade'. Mas mesmo assim foi possivel retirar algumas informações válidas dessas colunas com missing values.**\n",
    "\n",
    "**Para a construção de um modelo preditivo, ao listar as possíveis melhores variáveis para classificação de pagadores, eu escolheria, por ordem de relevância:**\n",
    "\n",
    "*Multa*\n",
    "\n",
    "*Recorrencia de ID*\n",
    "\n",
    "*Estado Civil*\n",
    "\n",
    "*Valor Real*\n",
    "\n",
    "*Dependentes*\n",
    "\n",
    "*Cheque Sem Fundo*\n",
    "\n",
    "**Essas cinco foram aparentemente as que conseguiram filtrar melhor tanto bons quanto mals pagadores, achei \"Cheque Sem Fundo\" com dados incosistentes, por não ser intuitivo bons pagadores apresentarem Cheques sem fundos e mals pagadores não apresentarem, mas a amostra é grande para ambos...**\n",
    "\n",
    "**A variável Multa é talvez a melhor dentre as escolhidas, tem uma boa distribuição das amostras por faixa e é intuitiva, uma vez que quanto menor a multa mais fácil é de pagá-la. Tem limiares entre bons e mals pagadores bem definidos em <10% e >30%. O mesmo acontece com valor real, mas como são variáveis bem semelhantes talvez represente informação redundante para o modelo.**\n",
    "\n",
    "**Dependentes mostra um bom limiar entra bons e mals, e também é um pouco intuitivo, uma vez que quem tem Dependentes talvez preze por ter uma vida financeira saudável.**\n",
    "\n",
    "**Já em Estado Civil temos que ter cuidado com OverFitting em alguns dos seus tipos, muitos deles como Divorciado, Viuvo, Outros e Separado tem uma amostra muito baixa. Já outros como Comunhão Parcial e Solteiro tem ótimos limiares para classificação e amostras grandes.**\n",
    "\n",
    "**A recorrencia de ID, apresentou 88% de igualdade no pagamento de empréstimos recorrentes, essa análise de antecedentes para construção do modelo também seria de grande relevância.**\n",
    "\n",
    "**Outros tipos de relacionamento podem ser feitos, tais como Genero, Dependentes e Conta Conjunta, que pode revelar um possível comportamento de gênero. As colunas de 'Valor Conta Corrente' e 'Valor Conta Poupança' poderiam ser variáveis muito importantes em uma análisia prévia de inadimplência, mas estavam sem nenhum valor, bem como a coluna das datas, talvez uma análise temporal dos empréstimos traria também informações úteis.**\n"
   ]
  }
 ],
 "metadata": {
  "kernelspec": {
   "display_name": "Python 3",
   "language": "python",
   "name": "python3"
  },
  "language_info": {
   "codemirror_mode": {
    "name": "ipython",
    "version": 3
   },
   "file_extension": ".py",
   "mimetype": "text/x-python",
   "name": "python",
   "nbconvert_exporter": "python",
   "pygments_lexer": "ipython3",
   "version": "3.8.3"
  }
 },
 "nbformat": 4,
 "nbformat_minor": 4
}
