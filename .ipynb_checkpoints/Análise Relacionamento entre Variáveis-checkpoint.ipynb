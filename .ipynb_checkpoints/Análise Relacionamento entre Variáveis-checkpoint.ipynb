{
 "cells": [
  {
   "cell_type": "code",
   "execution_count": 1,
   "metadata": {},
   "outputs": [],
   "source": [
    "#imports\n",
    "\n",
    "%matplotlib inline\n",
    "import pandas as pd\n",
    "import numpy as np\n",
    "import matplotlib.pyplot as plt\n",
    "import math"
   ]
  },
  {
   "cell_type": "code",
   "execution_count": 2,
   "metadata": {},
   "outputs": [
    {
     "data": {
      "text/plain": [
       "(50390, 23)"
      ]
     },
     "execution_count": 2,
     "metadata": {},
     "output_type": "execute_result"
    }
   ],
   "source": [
    "data = pd.read_csv(\"df_criado_final.csv\")\n",
    "data.shape"
   ]
  },
  {
   "cell_type": "code",
   "execution_count": 3,
   "metadata": {},
   "outputs": [
    {
     "data": {
      "text/html": [
       "<div>\n",
       "<style scoped>\n",
       "    .dataframe tbody tr th:only-of-type {\n",
       "        vertical-align: middle;\n",
       "    }\n",
       "\n",
       "    .dataframe tbody tr th {\n",
       "        vertical-align: top;\n",
       "    }\n",
       "\n",
       "    .dataframe thead th {\n",
       "        text-align: right;\n",
       "    }\n",
       "</style>\n",
       "<table border=\"1\" class=\"dataframe\">\n",
       "  <thead>\n",
       "    <tr style=\"text-align: right;\">\n",
       "      <th></th>\n",
       "      <th>Escolaridade</th>\n",
       "      <th>Renda Mensal Informal</th>\n",
       "      <th>Dependentes</th>\n",
       "      <th>Estado Civil</th>\n",
       "      <th>Idade</th>\n",
       "      <th>Conta Poupanca</th>\n",
       "      <th>Conta Salario</th>\n",
       "      <th>Quant Adiantamento Deposito</th>\n",
       "      <th>Qtd Fonte Renda</th>\n",
       "      <th>Cheque Sem Fundo</th>\n",
       "      <th>...</th>\n",
       "      <th>Valor Emprestimo</th>\n",
       "      <th>Multa</th>\n",
       "      <th>Juros</th>\n",
       "      <th>Valor Emprestimo Atualizado</th>\n",
       "      <th>PAGO</th>\n",
       "      <th>Controle</th>\n",
       "      <th>ID</th>\n",
       "      <th>Genero</th>\n",
       "      <th>Data</th>\n",
       "      <th>Estado</th>\n",
       "    </tr>\n",
       "  </thead>\n",
       "  <tbody>\n",
       "    <tr>\n",
       "      <th>0</th>\n",
       "      <td>NaN</td>\n",
       "      <td>NaN</td>\n",
       "      <td>S</td>\n",
       "      <td>2</td>\n",
       "      <td>36</td>\n",
       "      <td>S</td>\n",
       "      <td>N</td>\n",
       "      <td>NaN</td>\n",
       "      <td>NaN</td>\n",
       "      <td>N</td>\n",
       "      <td>...</td>\n",
       "      <td>8174.32</td>\n",
       "      <td>263.25</td>\n",
       "      <td>5844.98</td>\n",
       "      <td>14282.55</td>\n",
       "      <td>1</td>\n",
       "      <td>1</td>\n",
       "      <td>1328587.0</td>\n",
       "      <td>1</td>\n",
       "      <td>2020-01-01</td>\n",
       "      <td>57</td>\n",
       "    </tr>\n",
       "    <tr>\n",
       "      <th>1</th>\n",
       "      <td>1.0</td>\n",
       "      <td>1894.5078</td>\n",
       "      <td>N</td>\n",
       "      <td>2</td>\n",
       "      <td>39</td>\n",
       "      <td>S</td>\n",
       "      <td>N</td>\n",
       "      <td>2.0</td>\n",
       "      <td>1.0</td>\n",
       "      <td>S</td>\n",
       "      <td>...</td>\n",
       "      <td>41775.63</td>\n",
       "      <td>1607.29</td>\n",
       "      <td>7652.26</td>\n",
       "      <td>51035.18</td>\n",
       "      <td>1</td>\n",
       "      <td>1</td>\n",
       "      <td>1424254.0</td>\n",
       "      <td>1</td>\n",
       "      <td>2020-01-01</td>\n",
       "      <td>59</td>\n",
       "    </tr>\n",
       "    <tr>\n",
       "      <th>2</th>\n",
       "      <td>1.0</td>\n",
       "      <td>NaN</td>\n",
       "      <td>S</td>\n",
       "      <td>2</td>\n",
       "      <td>26</td>\n",
       "      <td>S</td>\n",
       "      <td>N</td>\n",
       "      <td>NaN</td>\n",
       "      <td>1.0</td>\n",
       "      <td>S</td>\n",
       "      <td>...</td>\n",
       "      <td>522940.27</td>\n",
       "      <td>24860.40</td>\n",
       "      <td>319315.62</td>\n",
       "      <td>867116.29</td>\n",
       "      <td>1</td>\n",
       "      <td>1</td>\n",
       "      <td>1438519.0</td>\n",
       "      <td>0</td>\n",
       "      <td>2020-01-01</td>\n",
       "      <td>56</td>\n",
       "    </tr>\n",
       "    <tr>\n",
       "      <th>3</th>\n",
       "      <td>NaN</td>\n",
       "      <td>NaN</td>\n",
       "      <td>N</td>\n",
       "      <td>8</td>\n",
       "      <td>23</td>\n",
       "      <td>N</td>\n",
       "      <td>N</td>\n",
       "      <td>NaN</td>\n",
       "      <td>NaN</td>\n",
       "      <td>N</td>\n",
       "      <td>...</td>\n",
       "      <td>1593.00</td>\n",
       "      <td>21472.36</td>\n",
       "      <td>2967.48</td>\n",
       "      <td>26032.84</td>\n",
       "      <td>1</td>\n",
       "      <td>1</td>\n",
       "      <td>1426138.0</td>\n",
       "      <td>1</td>\n",
       "      <td>2020-01-01</td>\n",
       "      <td>56</td>\n",
       "    </tr>\n",
       "    <tr>\n",
       "      <th>4</th>\n",
       "      <td>NaN</td>\n",
       "      <td>NaN</td>\n",
       "      <td>S</td>\n",
       "      <td>2</td>\n",
       "      <td>33</td>\n",
       "      <td>S</td>\n",
       "      <td>N</td>\n",
       "      <td>NaN</td>\n",
       "      <td>NaN</td>\n",
       "      <td>N</td>\n",
       "      <td>...</td>\n",
       "      <td>2078.97</td>\n",
       "      <td>19.44</td>\n",
       "      <td>46.35</td>\n",
       "      <td>2144.76</td>\n",
       "      <td>1</td>\n",
       "      <td>1</td>\n",
       "      <td>1474504.0</td>\n",
       "      <td>0</td>\n",
       "      <td>2020-01-01</td>\n",
       "      <td>59</td>\n",
       "    </tr>\n",
       "  </tbody>\n",
       "</table>\n",
       "<p>5 rows × 23 columns</p>\n",
       "</div>"
      ],
      "text/plain": [
       "   Escolaridade  Renda Mensal Informal Dependentes  Estado Civil  Idade  \\\n",
       "0           NaN                    NaN           S             2     36   \n",
       "1           1.0              1894.5078           N             2     39   \n",
       "2           1.0                    NaN           S             2     26   \n",
       "3           NaN                    NaN           N             8     23   \n",
       "4           NaN                    NaN           S             2     33   \n",
       "\n",
       "  Conta Poupanca Conta Salario  Quant Adiantamento Deposito  Qtd Fonte Renda  \\\n",
       "0              S             N                          NaN              NaN   \n",
       "1              S             N                          2.0              1.0   \n",
       "2              S             N                          NaN              1.0   \n",
       "3              N             N                          NaN              NaN   \n",
       "4              S             N                          NaN              NaN   \n",
       "\n",
       "  Cheque Sem Fundo  ... Valor Emprestimo     Multa      Juros  \\\n",
       "0                N  ...          8174.32    263.25    5844.98   \n",
       "1                S  ...         41775.63   1607.29    7652.26   \n",
       "2                S  ...        522940.27  24860.40  319315.62   \n",
       "3                N  ...          1593.00  21472.36    2967.48   \n",
       "4                N  ...          2078.97     19.44      46.35   \n",
       "\n",
       "   Valor Emprestimo Atualizado  PAGO  Controle         ID  Genero        Data  \\\n",
       "0                     14282.55     1         1  1328587.0       1  2020-01-01   \n",
       "1                     51035.18     1         1  1424254.0       1  2020-01-01   \n",
       "2                    867116.29     1         1  1438519.0       0  2020-01-01   \n",
       "3                     26032.84     1         1  1426138.0       1  2020-01-01   \n",
       "4                      2144.76     1         1  1474504.0       0  2020-01-01   \n",
       "\n",
       "   Estado  \n",
       "0      57  \n",
       "1      59  \n",
       "2      56  \n",
       "3      56  \n",
       "4      59  \n",
       "\n",
       "[5 rows x 23 columns]"
      ]
     },
     "execution_count": 3,
     "metadata": {},
     "output_type": "execute_result"
    }
   ],
   "source": [
    "data.head()"
   ]
  },
  {
   "cell_type": "code",
   "execution_count": 4,
   "metadata": {},
   "outputs": [],
   "source": [
    "#Retira colunas vazias\n",
    "data = data.drop(columns=['Valor Conta Corrente', 'Valor Conta Poupanca'])"
   ]
  },
  {
   "cell_type": "code",
   "execution_count": 5,
   "metadata": {},
   "outputs": [
    {
     "data": {
      "text/plain": [
       "(50390, 19)"
      ]
     },
     "execution_count": 5,
     "metadata": {},
     "output_type": "execute_result"
    }
   ],
   "source": [
    "#Função que verifica se todos os valores de uma coluna são iguais, retorno booleano\n",
    "def is_unique(s):\n",
    "    a = s.to_numpy() \n",
    "    return (a[0] == a).all()\n",
    "\n",
    "colunas_valores_iguais = []\n",
    "\n",
    "#Remove colunas redundantes\n",
    "for i in range(21):\n",
    "    #print(data.columns[i] + \":\\n\" + str(is_unique(data[data.columns[i]])))\n",
    "    if(is_unique(data[data.columns[i]])):\n",
    "        colunas_valores_iguais.append(data.columns[i])\n",
    "    \n",
    "data = data.drop(columns = colunas_valores_iguais)\n",
    "data.shape"
   ]
  },
  {
   "cell_type": "code",
   "execution_count": 6,
   "metadata": {},
   "outputs": [
    {
     "data": {
      "text/plain": [
       "Index(['Escolaridade', 'Renda Mensal Informal', 'Dependentes', 'Estado Civil',\n",
       "       'Idade', 'Conta Poupanca', 'Conta Salario',\n",
       "       'Quant Adiantamento Deposito', 'Qtd Fonte Renda', 'Cheque Sem Fundo',\n",
       "       'Conta Conjunta', 'Valor Emprestimo', 'Multa', 'Juros',\n",
       "       'Valor Emprestimo Atualizado', 'PAGO', 'ID', 'Genero', 'Estado'],\n",
       "      dtype='object')"
      ]
     },
     "execution_count": 6,
     "metadata": {},
     "output_type": "execute_result"
    }
   ],
   "source": [
    "data.columns"
   ]
  },
  {
   "cell_type": "code",
   "execution_count": 7,
   "metadata": {},
   "outputs": [
    {
     "name": "stdout",
     "output_type": "stream",
     "text": [
      "(39853, 19) (10537, 19) 50390\n"
     ]
    }
   ],
   "source": [
    "#Separa DataSet em quem pagou e não pagou emprestimos passados\n",
    "\n",
    "bons_pagadores = data.query('PAGO == 1')\n",
    "mals_pagadores = data.query('PAGO == 0')\n",
    "\n",
    "print(bons_pagadores.shape, mals_pagadores.shape,(bons_pagadores.shape[0] + mals_pagadores.shape[0]) )"
   ]
  },
  {
   "cell_type": "code",
   "execution_count": 16,
   "metadata": {},
   "outputs": [
    {
     "name": "stdout",
     "output_type": "stream",
     "text": [
      "Quantidade de dados: 11844\n",
      "\n",
      "Relacionamento entre SEM dependentes | Casado Comunhão Parcial | Sem Conta Conjunta\n",
      "\n",
      "Bons pagadores: 59.616683552853765%\n",
      "Mals pagadores: 40.383316447146235%\n"
     ]
    }
   ],
   "source": [
    "#Relacionamento entre Dependentes, Estado Civil e Conta Conjunta\n",
    "# Sem dependentes: Apresentou maior número de mals pagadores\n",
    "#'Casado(a) com comunhão parcial de bens': Dentre todas a análises individuais, \n",
    "#foi o que apresentou um maior número de mals pagadores e tinha um número expressivo de individuos no banco.\n",
    "#Sem conta conjunta: Apresentou maior percentual dentroda análise individual\n",
    "\n",
    "Relacionamento_Dependentes_EstadoCivil_ContaConjunta_Bons = bons_pagadores.query(\n",
    "    'Dependentes == \"N\" & `Estado Civil` == 4 & `Conta Conjunta` == \"N\"')\n",
    "\n",
    "Relacionamento_Dependentes_EstadoCivil_ContaConjunta_Mals = mals_pagadores.query(\n",
    "    'Dependentes == \"N\" & `Estado Civil` == 4 & `Conta Conjunta` == \"N\"')\n",
    "\n",
    "print(\"Quantidade de dados: {}\\n\".format(Relacionamento_Dependentes_EstadoCivil_ContaConjunta_Bons.shape[0] + \n",
    " Relacionamento_Dependentes_EstadoCivil_ContaConjunta_Mals.shape[0]))\n",
    "\n",
    "porcentagem_Rel_Dep_EC_CC_Bons = (Relacionamento_Dependentes_EstadoCivil_ContaConjunta_Bons.shape[0]/\n",
    "(Relacionamento_Dependentes_EstadoCivil_ContaConjunta_Bons.shape[0] + \n",
    " Relacionamento_Dependentes_EstadoCivil_ContaConjunta_Mals.shape[0])) * 100\n",
    "\n",
    "print('Relacionamento entre SEM dependentes | Casado Comunhão Parcial | Sem Conta Conjunta\\n\\n' +\n",
    "        'Bons pagadores: {}%\\nMals pagadores: {}%'.format(porcentagem_Rel_Dep_EC_CC_Bons, \n",
    "                                                     (100 - porcentagem_Rel_Dep_EC_CC_Bons)))\n"
   ]
  },
  {
   "cell_type": "code",
   "execution_count": 17,
   "metadata": {},
   "outputs": [
    {
     "name": "stdout",
     "output_type": "stream",
     "text": [
      "Quantidade de dados: 31094\n",
      "\n",
      "Relacionamento entre SEM dependentes | Sem Conta Conjunta\n",
      "\n",
      "Bons pagadores: 72.43841255547694%\n",
      "Mals pagadores: 27.561587444523056%\n"
     ]
    }
   ],
   "source": [
    "Relacionamento_Dependentes_ContaConjunta_Bons = bons_pagadores.query(\n",
    "    'Dependentes == \"N\" & `Conta Conjunta` == \"N\"')\n",
    "\n",
    "Relacionamento_Dependentes_ContaConjunta_Mals = mals_pagadores.query(\n",
    "    'Dependentes == \"N\" & `Conta Conjunta` == \"N\"')\n",
    "\n",
    "print(\"Quantidade de dados: {}\\n\".format(Relacionamento_Dependentes_ContaConjunta_Bons.shape[0] + \n",
    " Relacionamento_Dependentes_ContaConjunta_Mals.shape[0]))\n",
    "\n",
    "\n",
    "porcentagem_Rel_Dep_CC_Bons = (Relacionamento_Dependentes_ContaConjunta_Bons.shape[0]/\n",
    "(Relacionamento_Dependentes_ContaConjunta_Bons.shape[0] + \n",
    " Relacionamento_Dependentes_ContaConjunta_Mals.shape[0])) * 100\n",
    "\n",
    "print('Relacionamento entre SEM dependentes | Sem Conta Conjunta\\n\\n' +\n",
    "        'Bons pagadores: {}%\\nMals pagadores: {}%'.format(porcentagem_Rel_Dep_CC_Bons, \n",
    "                                                     (100 - porcentagem_Rel_Dep_CC_Bons)))"
   ]
  },
  {
   "cell_type": "code",
   "execution_count": 18,
   "metadata": {},
   "outputs": [
    {
     "name": "stdout",
     "output_type": "stream",
     "text": [
      "Quantidade de dados: 11915\n",
      "\n",
      "Relacionamento entre SEM dependentes | Casado Comunhão Parcial\n",
      "\n",
      "Bons pagadores: 59.64750314729332%\n",
      "Mals pagadores: 40.35249685270668%\n"
     ]
    }
   ],
   "source": [
    "#Relacionamento casado parcial e SEM depedentes\n",
    "Relacionamento_Dependentes_EstadoCivil_Bons = bons_pagadores.query(\n",
    "    'Dependentes == \"N\" & `Estado Civil` == 4')\n",
    "\n",
    "Relacionamento_Dependentes_EstadoCivil_Mals = mals_pagadores.query(\n",
    "    'Dependentes == \"N\" & `Estado Civil` == 4')\n",
    "\n",
    "#Print quantidade de dados filtrados\n",
    "print(\"Quantidade de dados: {}\\n\".format(Relacionamento_Dependentes_EstadoCivil_Bons.shape[0] + \n",
    " Relacionamento_Dependentes_EstadoCivil_Mals.shape[0]))\n",
    "\n",
    "\n",
    "porcentagem_Rel_Dep_EC_Bons = (Relacionamento_Dependentes_EstadoCivil_Bons.shape[0]/\n",
    "(Relacionamento_Dependentes_EstadoCivil_Bons.shape[0] + \n",
    " Relacionamento_Dependentes_EstadoCivil_Mals.shape[0])) * 100\n",
    "\n",
    "print('Relacionamento entre SEM dependentes | Casado Comunhão Parcial\\n\\n' +\n",
    "        'Bons pagadores: {}%\\nMals pagadores: {}%'.format(porcentagem_Rel_Dep_EC_Bons, \n",
    "                                                     (100 - porcentagem_Rel_Dep_EC_Bons)))\n"
   ]
  },
  {
   "cell_type": "code",
   "execution_count": null,
   "metadata": {},
   "outputs": [],
   "source": []
  }
 ],
 "metadata": {
  "kernelspec": {
   "display_name": "Python 3",
   "language": "python",
   "name": "python3"
  },
  "language_info": {
   "codemirror_mode": {
    "name": "ipython",
    "version": 3
   },
   "file_extension": ".py",
   "mimetype": "text/x-python",
   "name": "python",
   "nbconvert_exporter": "python",
   "pygments_lexer": "ipython3",
   "version": "3.8.3"
  }
 },
 "nbformat": 4,
 "nbformat_minor": 4
}
