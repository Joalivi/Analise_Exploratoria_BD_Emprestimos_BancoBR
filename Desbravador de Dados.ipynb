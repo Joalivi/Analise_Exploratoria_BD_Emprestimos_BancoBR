{
 "cells": [
  {
   "cell_type": "code",
   "execution_count": 1,
   "metadata": {},
   "outputs": [],
   "source": [
    "#imports\n",
    "\n",
    "%matplotlib inline\n",
    "import pandas as pd\n",
    "import numpy as np\n",
    "import matplotlib.pyplot as plt\n",
    "import math"
   ]
  },
  {
   "cell_type": "code",
   "execution_count": 2,
   "metadata": {},
   "outputs": [
    {
     "data": {
      "text/plain": [
       "(50390, 23)"
      ]
     },
     "execution_count": 2,
     "metadata": {},
     "output_type": "execute_result"
    }
   ],
   "source": [
    "data = pd.read_csv(\"df_criado_final.csv\")\n",
    "data.shape"
   ]
  },
  {
   "cell_type": "code",
   "execution_count": 3,
   "metadata": {},
   "outputs": [
    {
     "data": {
      "text/html": [
       "<div>\n",
       "<style scoped>\n",
       "    .dataframe tbody tr th:only-of-type {\n",
       "        vertical-align: middle;\n",
       "    }\n",
       "\n",
       "    .dataframe tbody tr th {\n",
       "        vertical-align: top;\n",
       "    }\n",
       "\n",
       "    .dataframe thead th {\n",
       "        text-align: right;\n",
       "    }\n",
       "</style>\n",
       "<table border=\"1\" class=\"dataframe\">\n",
       "  <thead>\n",
       "    <tr style=\"text-align: right;\">\n",
       "      <th></th>\n",
       "      <th>Escolaridade</th>\n",
       "      <th>Renda Mensal Informal</th>\n",
       "      <th>Dependentes</th>\n",
       "      <th>Estado Civil</th>\n",
       "      <th>Idade</th>\n",
       "      <th>Conta Poupanca</th>\n",
       "      <th>Conta Salario</th>\n",
       "      <th>Quant Adiantamento Deposito</th>\n",
       "      <th>Qtd Fonte Renda</th>\n",
       "      <th>Cheque Sem Fundo</th>\n",
       "      <th>...</th>\n",
       "      <th>Valor Emprestimo</th>\n",
       "      <th>Multa</th>\n",
       "      <th>Juros</th>\n",
       "      <th>Valor Emprestimo Atualizado</th>\n",
       "      <th>PAGO</th>\n",
       "      <th>Controle</th>\n",
       "      <th>ID</th>\n",
       "      <th>Genero</th>\n",
       "      <th>Data</th>\n",
       "      <th>Estado</th>\n",
       "    </tr>\n",
       "  </thead>\n",
       "  <tbody>\n",
       "    <tr>\n",
       "      <th>0</th>\n",
       "      <td>NaN</td>\n",
       "      <td>NaN</td>\n",
       "      <td>S</td>\n",
       "      <td>2</td>\n",
       "      <td>36</td>\n",
       "      <td>S</td>\n",
       "      <td>N</td>\n",
       "      <td>NaN</td>\n",
       "      <td>NaN</td>\n",
       "      <td>N</td>\n",
       "      <td>...</td>\n",
       "      <td>8174.32</td>\n",
       "      <td>263.25</td>\n",
       "      <td>5844.98</td>\n",
       "      <td>14282.55</td>\n",
       "      <td>1</td>\n",
       "      <td>1</td>\n",
       "      <td>1328587.0</td>\n",
       "      <td>1</td>\n",
       "      <td>2020-01-01</td>\n",
       "      <td>57</td>\n",
       "    </tr>\n",
       "    <tr>\n",
       "      <th>1</th>\n",
       "      <td>1.0</td>\n",
       "      <td>1894.5078</td>\n",
       "      <td>N</td>\n",
       "      <td>2</td>\n",
       "      <td>39</td>\n",
       "      <td>S</td>\n",
       "      <td>N</td>\n",
       "      <td>2.0</td>\n",
       "      <td>1.0</td>\n",
       "      <td>S</td>\n",
       "      <td>...</td>\n",
       "      <td>41775.63</td>\n",
       "      <td>1607.29</td>\n",
       "      <td>7652.26</td>\n",
       "      <td>51035.18</td>\n",
       "      <td>1</td>\n",
       "      <td>1</td>\n",
       "      <td>1424254.0</td>\n",
       "      <td>1</td>\n",
       "      <td>2020-01-01</td>\n",
       "      <td>59</td>\n",
       "    </tr>\n",
       "    <tr>\n",
       "      <th>2</th>\n",
       "      <td>1.0</td>\n",
       "      <td>NaN</td>\n",
       "      <td>S</td>\n",
       "      <td>2</td>\n",
       "      <td>26</td>\n",
       "      <td>S</td>\n",
       "      <td>N</td>\n",
       "      <td>NaN</td>\n",
       "      <td>1.0</td>\n",
       "      <td>S</td>\n",
       "      <td>...</td>\n",
       "      <td>522940.27</td>\n",
       "      <td>24860.40</td>\n",
       "      <td>319315.62</td>\n",
       "      <td>867116.29</td>\n",
       "      <td>1</td>\n",
       "      <td>1</td>\n",
       "      <td>1438519.0</td>\n",
       "      <td>0</td>\n",
       "      <td>2020-01-01</td>\n",
       "      <td>56</td>\n",
       "    </tr>\n",
       "    <tr>\n",
       "      <th>3</th>\n",
       "      <td>NaN</td>\n",
       "      <td>NaN</td>\n",
       "      <td>N</td>\n",
       "      <td>8</td>\n",
       "      <td>23</td>\n",
       "      <td>N</td>\n",
       "      <td>N</td>\n",
       "      <td>NaN</td>\n",
       "      <td>NaN</td>\n",
       "      <td>N</td>\n",
       "      <td>...</td>\n",
       "      <td>1593.00</td>\n",
       "      <td>21472.36</td>\n",
       "      <td>2967.48</td>\n",
       "      <td>26032.84</td>\n",
       "      <td>1</td>\n",
       "      <td>1</td>\n",
       "      <td>1426138.0</td>\n",
       "      <td>1</td>\n",
       "      <td>2020-01-01</td>\n",
       "      <td>56</td>\n",
       "    </tr>\n",
       "    <tr>\n",
       "      <th>4</th>\n",
       "      <td>NaN</td>\n",
       "      <td>NaN</td>\n",
       "      <td>S</td>\n",
       "      <td>2</td>\n",
       "      <td>33</td>\n",
       "      <td>S</td>\n",
       "      <td>N</td>\n",
       "      <td>NaN</td>\n",
       "      <td>NaN</td>\n",
       "      <td>N</td>\n",
       "      <td>...</td>\n",
       "      <td>2078.97</td>\n",
       "      <td>19.44</td>\n",
       "      <td>46.35</td>\n",
       "      <td>2144.76</td>\n",
       "      <td>1</td>\n",
       "      <td>1</td>\n",
       "      <td>1474504.0</td>\n",
       "      <td>0</td>\n",
       "      <td>2020-01-01</td>\n",
       "      <td>59</td>\n",
       "    </tr>\n",
       "  </tbody>\n",
       "</table>\n",
       "<p>5 rows × 23 columns</p>\n",
       "</div>"
      ],
      "text/plain": [
       "   Escolaridade  Renda Mensal Informal Dependentes  Estado Civil  Idade  \\\n",
       "0           NaN                    NaN           S             2     36   \n",
       "1           1.0              1894.5078           N             2     39   \n",
       "2           1.0                    NaN           S             2     26   \n",
       "3           NaN                    NaN           N             8     23   \n",
       "4           NaN                    NaN           S             2     33   \n",
       "\n",
       "  Conta Poupanca Conta Salario  Quant Adiantamento Deposito  Qtd Fonte Renda  \\\n",
       "0              S             N                          NaN              NaN   \n",
       "1              S             N                          2.0              1.0   \n",
       "2              S             N                          NaN              1.0   \n",
       "3              N             N                          NaN              NaN   \n",
       "4              S             N                          NaN              NaN   \n",
       "\n",
       "  Cheque Sem Fundo  ... Valor Emprestimo     Multa      Juros  \\\n",
       "0                N  ...          8174.32    263.25    5844.98   \n",
       "1                S  ...         41775.63   1607.29    7652.26   \n",
       "2                S  ...        522940.27  24860.40  319315.62   \n",
       "3                N  ...          1593.00  21472.36    2967.48   \n",
       "4                N  ...          2078.97     19.44      46.35   \n",
       "\n",
       "   Valor Emprestimo Atualizado  PAGO  Controle         ID  Genero        Data  \\\n",
       "0                     14282.55     1         1  1328587.0       1  2020-01-01   \n",
       "1                     51035.18     1         1  1424254.0       1  2020-01-01   \n",
       "2                    867116.29     1         1  1438519.0       0  2020-01-01   \n",
       "3                     26032.84     1         1  1426138.0       1  2020-01-01   \n",
       "4                      2144.76     1         1  1474504.0       0  2020-01-01   \n",
       "\n",
       "   Estado  \n",
       "0      57  \n",
       "1      59  \n",
       "2      56  \n",
       "3      56  \n",
       "4      59  \n",
       "\n",
       "[5 rows x 23 columns]"
      ]
     },
     "execution_count": 3,
     "metadata": {},
     "output_type": "execute_result"
    }
   ],
   "source": [
    "data.head()"
   ]
  },
  {
   "cell_type": "code",
   "execution_count": 4,
   "metadata": {},
   "outputs": [
    {
     "data": {
      "text/plain": [
       "Escolaridade                   35775\n",
       "Renda Mensal Informal          40622\n",
       "Dependentes                        0\n",
       "Estado Civil                       0\n",
       "Idade                              0\n",
       "Conta Poupanca                     0\n",
       "Conta Salario                      0\n",
       "Quant Adiantamento Deposito    28547\n",
       "Qtd Fonte Renda                37584\n",
       "Cheque Sem Fundo                   0\n",
       "Conta Conjunta                     0\n",
       "Valor Conta Corrente           50390\n",
       "Valor Conta Poupanca           50390\n",
       "Valor Emprestimo                   0\n",
       "Multa                              0\n",
       "Juros                              0\n",
       "Valor Emprestimo Atualizado        0\n",
       "PAGO                               0\n",
       "Controle                           0\n",
       "ID                                 0\n",
       "Genero                             0\n",
       "Data                               0\n",
       "Estado                             0\n",
       "dtype: int64"
      ]
     },
     "execution_count": 4,
     "metadata": {},
     "output_type": "execute_result"
    }
   ],
   "source": [
    "#Missing values para todas as colunas\n",
    "data.isnull().sum()"
   ]
  },
  {
   "cell_type": "code",
   "execution_count": 5,
   "metadata": {},
   "outputs": [],
   "source": [
    "#Retira colunas vazias\n",
    "data = data.drop(columns=['Valor Conta Corrente', 'Valor Conta Poupanca'])"
   ]
  },
  {
   "cell_type": "code",
   "execution_count": 6,
   "metadata": {},
   "outputs": [
    {
     "data": {
      "text/plain": [
       "Index(['Escolaridade', 'Renda Mensal Informal', 'Dependentes', 'Estado Civil',\n",
       "       'Idade', 'Conta Poupanca', 'Conta Salario',\n",
       "       'Quant Adiantamento Deposito', 'Qtd Fonte Renda', 'Cheque Sem Fundo',\n",
       "       'Conta Conjunta', 'Valor Emprestimo', 'Multa', 'Juros',\n",
       "       'Valor Emprestimo Atualizado', 'PAGO', 'Controle', 'ID', 'Genero',\n",
       "       'Data', 'Estado'],\n",
       "      dtype='object')"
      ]
     },
     "execution_count": 6,
     "metadata": {},
     "output_type": "execute_result"
    }
   ],
   "source": [
    "#data_pessoal = data.loc[, ['Escolaridade', 'Dependentes', 'Estado Civil', 'Idade', 'ID', 'Genero', 'Estado']]\n",
    "data.columns"
   ]
  },
  {
   "cell_type": "code",
   "execution_count": 7,
   "metadata": {},
   "outputs": [
    {
     "data": {
      "text/plain": [
       "(50390, 19)"
      ]
     },
     "execution_count": 7,
     "metadata": {},
     "output_type": "execute_result"
    }
   ],
   "source": [
    "#Função que verifica se todos os valores de uma coluna são iguais, retorno booleano\n",
    "def is_unique(s):\n",
    "    a = s.to_numpy() \n",
    "    return (a[0] == a).all()\n",
    "\n",
    "colunas_valores_iguais = []\n",
    "\n",
    "#Remove colunas redundantes\n",
    "for i in range(21):\n",
    "    #print(data.columns[i] + \":\\n\" + str(is_unique(data[data.columns[i]])))\n",
    "    if(is_unique(data[data.columns[i]])):\n",
    "        colunas_valores_iguais.append(data.columns[i])\n",
    "    \n",
    "data = data.drop(columns = colunas_valores_iguais)\n",
    "data.shape"
   ]
  },
  {
   "cell_type": "code",
   "execution_count": 8,
   "metadata": {},
   "outputs": [
    {
     "name": "stdout",
     "output_type": "stream",
     "text": [
      "(39853, 19) (10537, 19) 50390\n"
     ]
    }
   ],
   "source": [
    "#Separa DataSet em quem pagou e não pagou emprestimos passados\n",
    "\n",
    "bons_pagadores = data.query('PAGO == 1')\n",
    "mals_pagadores = data.query('PAGO == 0')\n",
    "\n",
    "print(bons_pagadores.shape, mals_pagadores.shape,(bons_pagadores.shape[0] + mals_pagadores.shape[0]) )"
   ]
  },
  {
   "cell_type": "code",
   "execution_count": 9,
   "metadata": {},
   "outputs": [
    {
     "name": "stdout",
     "output_type": "stream",
     "text": [
      "45784\n"
     ]
    }
   ],
   "source": [
    "#Verifica se existem pessoas com mais de um emprestimo no nome\n",
    "dicionario_ID_frequencia = dict(data['ID'].value_counts())\n",
    "print(len(dicionario_ID_frequencia))\n"
   ]
  },
  {
   "cell_type": "code",
   "execution_count": 10,
   "metadata": {},
   "outputs": [
    {
     "name": "stdout",
     "output_type": "stream",
     "text": [
      "9212\n"
     ]
    }
   ],
   "source": [
    "#Salva os ID que tem mais de 1 emprestimo\n",
    "ID_duplicados = []\n",
    "for i in range (len(data)):\n",
    "    if(dicionario_ID_frequencia[data['ID'][i]] > 1):\n",
    "        ID_duplicados.append(data['ID'][i])\n",
    "print(len(ID_duplicados))\n"
   ]
  },
  {
   "cell_type": "code",
   "execution_count": 11,
   "metadata": {},
   "outputs": [
    {
     "name": "stdout",
     "output_type": "stream",
     "text": [
      "Emprestimos recorrentes que tiveram o mesmo valor para `PAGO`: 88%\n"
     ]
    }
   ],
   "source": [
    "#Verifica quantos emprestimos recorrentes obtiveram o mesmo resultado para coluna 'PAGO'\n",
    "def calcula_recorrencia_pagamentos(dados):\n",
    "    count = 0\n",
    "    for i in range (len(ID_duplicados)):\n",
    "\n",
    "        aux = dados[dados.ID == ID_duplicados[i]]\n",
    "        if(is_unique(aux['PAGO'])):\n",
    "            count = count + 1\n",
    "    return int(count*100/len(ID_duplicados))        \n",
    "\n",
    "todos = calcula_recorrencia_pagamentos(data)\n",
    "\n",
    "\n",
    "print('Emprestimos recorrentes que tiveram o mesmo valor para `PAGO`: {}%' .format(todos))\n"
   ]
  },
  {
   "cell_type": "code",
   "execution_count": 12,
   "metadata": {},
   "outputs": [],
   "source": [
    "#Separa variáveis de idade\n",
    "idade_frequencia_bons = bons_pagadores['Idade'].value_counts().sort_index()\n",
    "idade_frequencia_mals = mals_pagadores['Idade'].value_counts().sort_index()"
   ]
  },
  {
   "cell_type": "code",
   "execution_count": 13,
   "metadata": {},
   "outputs": [
    {
     "data": {
      "image/png": "[encoded data removed]",
      "text/plain": [
       "<Figure size 1080x360 with 1 Axes>"
      ]
     },
     "metadata": {
      "needs_background": "light"
     },
     "output_type": "display_data"
    }
   ],
   "source": [
    "#Plot Idade bons pagadores\n",
    "plot_idade = idade_frequencia_bons.plot(kind = 'bar', figsize=(15,5))"
   ]
  },
  {
   "cell_type": "code",
   "execution_count": 14,
   "metadata": {},
   "outputs": [
    {
     "data": {
      "image/png": "[encoded data removed]",
      "text/plain": [
       "<Figure size 1080x360 with 1 Axes>"
      ]
     },
     "metadata": {
      "needs_background": "light"
     },
     "output_type": "display_data"
    }
   ],
   "source": [
    "#Plot Idade mals pagadores\n",
    "plot_idade = idade_frequencia_mals.plot(kind = 'bar', figsize=(15,5))"
   ]
  },
  {
   "cell_type": "code",
   "execution_count": 20,
   "metadata": {},
   "outputs": [],
   "source": [
    "#Separa variáveis de escolaridade, coloca 0 nos NaN values\n",
    "escolaridade_frequencia_bons = bons_pagadores['Escolaridade'].fillna(0).value_counts().sort_index()\n",
    "escolaridade_frequencia_mals = mals_pagadores['Escolaridade'].fillna(0).value_counts().sort_index()\n"
   ]
  },
  {
   "cell_type": "code",
   "execution_count": 16,
   "metadata": {},
   "outputs": [
    {
     "name": "stdout",
     "output_type": "stream",
     "text": [
      "Bons:\n",
      " 0.0    26923\n",
      "1.0    11556\n",
      "2.0      712\n",
      "3.0      662\n",
      "Name: Escolaridade, dtype: int64\n",
      "\n",
      "Mals:\n",
      " 0.0    8852\n",
      "1.0    1328\n",
      "2.0     184\n",
      "3.0     173\n",
      "Name: Escolaridade, dtype: int64\n"
     ]
    }
   ],
   "source": [
    "#Escolaridade bons e mals\n",
    "print(\"Bons:\\n {}\".format( escolaridade_frequencia_bons))\n",
    "print(\"\\nMals:\\n {}\" .format(escolaridade_frequencia_mals))"
   ]
  },
  {
   "cell_type": "code",
   "execution_count": 25,
   "metadata": {},
   "outputs": [
    {
     "name": "stdout",
     "output_type": "stream",
     "text": [
      "Sem informação - Bons Pagadores : 75.256464011181% \n",
      "Sem informação - Mals Pagadores : 24.743535988819005%\n",
      "\n",
      "\u001b[1mSem informação representa 70.99622941059735% de todo o banco.\n",
      "\n",
      "\u001b[0m\n",
      "Ensino Médio - Bons Pagadores : 89.69264203663458% \n",
      "Ensino Médio - Mals Pagadores : 10.307357963365419%\n",
      "\n",
      "\u001b[1mEnsino Médio representa 25.568565191506252% de todo o banco.\n",
      "\n",
      "\u001b[0m\n",
      "Ensino Superior - Bons Pagadores : 79.46428571428571% \n",
      "Ensino Superior - Mals Pagadores : 20.535714285714292%\n",
      "\n",
      "\u001b[1mEnsino Superior representa 1.7781305814645765% de todo o banco.\n",
      "\n",
      "\u001b[0m\n",
      "Pós Graduação - Bons Pagadores : 79.2814371257485% \n",
      "Pós Graduação - Mals Pagadores : 20.718562874251504%\n",
      "\n",
      "\u001b[1mPós Graduação representa 1.6570748164318316% de todo o banco.\n",
      "\n",
      "\u001b[0m\n"
     ]
    }
   ],
   "source": [
    "#Análise escolaridade, compara bons e mals agadores dentre cada modalidade de escolaridade\n",
    "dicionario_escolaridade = {0.0: 'Sem informação', 1.0: 'Ensino Médio', 2.0: 'Ensino Superior', 3.0: 'Pós Graduação'}\n",
    "\n",
    "for i in range(4):\n",
    "    Porcentagem_escolaridade = 0\n",
    "    \n",
    "    porcentagem_escolaridade = (escolaridade_frequencia_bons.loc[i] / \n",
    "                                (escolaridade_frequencia_bons.loc[i] + escolaridade_frequencia_mals.loc[i]))*100\n",
    "    \n",
    "    porcentagem_escolaridade_total = ((escolaridade_frequencia_bons.loc[i] + escolaridade_frequencia_mals.loc[i]) /\n",
    "                                        data['Escolaridade'].fillna(0).shape[0])* 100\n",
    "        \n",
    "    print('{} - Bons Pagadores : {}% \\n{} - Mals Pagadores : {}%\\n'.format(dicionario_escolaridade[i],\n",
    "                                                                           porcentagem_escolaridade, \n",
    "                                                                           dicionario_escolaridade[i],\n",
    "                                                                           (100 - porcentagem_escolaridade)))\n",
    "    \n",
    "    print('\\033[1m' + '{} representa {}% de todo o banco.\\n\\n'.format(dicionario_escolaridade[i],\n",
    "                                                                porcentagem_escolaridade_total) + '\\033[0m')"
   ]
  },
  {
   "cell_type": "code",
   "execution_count": 42,
   "metadata": {},
   "outputs": [],
   "source": [
    "#Separa variáveis de Renda Informal, coloca 0 nos NaN values\n",
    "rendaInformal_frequencia_bons = bons_pagadores['Renda Mensal Informal'].fillna(0).value_counts().sort_index()\n",
    "rendaInformal_frequencia_mals = mals_pagadores['Renda Mensal Informal'].fillna(0).value_counts().sort_index()\n"
   ]
  },
  {
   "cell_type": "code",
   "execution_count": 43,
   "metadata": {},
   "outputs": [
    {
     "name": "stdout",
     "output_type": "stream",
     "text": [
      "Bons:\n",
      " 0.0000         31291\n",
      "0.0096             3\n",
      "0.0720             3\n",
      "0.1000             3\n",
      "0.1390             5\n",
      "               ...  \n",
      "165624.8842        4\n",
      "168932.8038        5\n",
      "235367.3922        1\n",
      "515713.1927        1\n",
      "516960.7791        6\n",
      "Name: Renda Mensal Informal, Length: 2207, dtype: int64\n",
      "\n",
      "Mals:\n",
      " 0.0000         9331\n",
      "0.1000            5\n",
      "0.1390            1\n",
      "0.2190            1\n",
      "0.3180            1\n",
      "               ... \n",
      "165624.8842       5\n",
      "168932.8038       9\n",
      "168976.9187       1\n",
      "235367.3922       2\n",
      "516960.7791       6\n",
      "Name: Renda Mensal Informal, Length: 635, dtype: int64\n"
     ]
    }
   ],
   "source": [
    "#Renda Informal bons e mals\n",
    "print(\"Bons:\\n {}\".format( rendaInformal_frequencia_bons))\n",
    "print(\"\\nMals:\\n {}\" .format(rendaInformal_frequencia_mals))"
   ]
  },
  {
   "cell_type": "code",
   "execution_count": 55,
   "metadata": {},
   "outputs": [
    {
     "name": "stdout",
     "output_type": "stream",
     "text": [
      "\u001b[1mMenos que um salário:\u001b[0m\n",
      "Bons: 78.96982244808332% | Mals: 21.03017755191668%\n",
      "\n",
      "\n",
      "\u001b[1mEntre 1-5 salários:\u001b[0m\n",
      "Bons: 85.41114058355438% | Mals: 14.588859416445615%\n",
      "\n",
      "\n",
      "\u001b[1mEntre 5-10 salários:\u001b[0m\n",
      "Bons: 85.92375366568915% | Mals: 14.076246334310852%\n",
      "\n",
      "\n",
      "\u001b[1mEntre 10-20 salários:\u001b[0m\n",
      "Bons: 80.28673835125448% | Mals: 19.713261648745515%\n",
      "\n",
      "\n",
      "\u001b[1mEntre 20-50 salários:\u001b[0m\n",
      "Bons: 70.94339622641509% | Mals: 29.05660377358491%\n",
      "\n",
      "\n",
      "\u001b[1mEntre 50-100 salários:\u001b[0m\n",
      "Bons: 51.162790697674424% | Mals: 48.837209302325576%\n",
      "\n",
      "\n",
      "\u001b[1mAcima de 100 salários:\u001b[0m\n",
      "Bons: 58.51063829787234% | Mals: 41.48936170212766%\n",
      "\n",
      "\n"
     ]
    }
   ],
   "source": [
    "#Análise Renda Informal\n",
    "#Função retorna quantidade de clientes divididos por quantidade de salários de renda\n",
    "def separa_por_qtdd_salarios(dicionario):\n",
    "    salarioMinimo = 1045.0\n",
    "    um_salario = 0\n",
    "    cinco_salarios = 0\n",
    "    dez_salarios = 0\n",
    "    vinte_salarios = 0\n",
    "    cinquenta_salarios = 0\n",
    "    cem_salarios = 0\n",
    "    teto_salarios = 0\n",
    "    \n",
    "    for key, value in dicionario.items():\n",
    "        if(key <= salarioMinimo):\n",
    "            um_salario = um_salario + value\n",
    "        elif(key <= salarioMinimo * 5):\n",
    "            cinco_salarios = cinco_salarios + value\n",
    "        elif(key <= salarioMinimo * 10):\n",
    "            dez_salarios = dez_salarios + value  \n",
    "        elif(key <= salarioMinimo * 20):\n",
    "            vinte_salarios = vinte_salarios + value \n",
    "        elif(key <= salarioMinimo * 50):\n",
    "            cinquenta_salarios = cinquenta_salarios + value\n",
    "        elif(key <= salarioMinimo * 100):\n",
    "            cem_salarios = cem_salarios + value\n",
    "        else:\n",
    "            teto_salarios = teto_salarios + value    \n",
    "            \n",
    "    return um_salario, cinco_salarios, dez_salarios, vinte_salarios, cinquenta_salarios, cem_salarios, teto_salarios  \n",
    "\n",
    "#Cria discionários das variaveis de frequencia\n",
    "dicionario_bons_rendaInformal = dict(rendaInformal_frequencia_bons)\n",
    "dicionario_mals_rendaInformal = dict(rendaInformal_frequencia_mals)\n",
    "\n",
    "#Vetores com qtdd de clientes por salário\n",
    "bons_rendaInformal = separa_por_qtdd_salarios(dicionario_bons_rendaInformal)\n",
    "mals_rendaInformal = separa_por_qtdd_salarios(dicionario_mals_rendaInformal)        \n",
    " \n",
    "dicionario_salarios = {0: 'Menos que um salário', 1: 'Entre 1-5 salários', 2: 'Entre 5-10 salários', \n",
    "                       3: 'Entre 10-20 salários', 4: 'Entre 20-50 salários', 5: 'Entre 50-100 salários',\n",
    "                       6: 'Acima de 100 salários'}\n",
    "\n",
    "for i in range(len(bons_rendaInformal)):\n",
    "    \n",
    "    porcentagem_rendaInformal_bons = (bons_rendaInformal[i] / (bons_rendaInformal[i] + mals_rendaInformal[i])) * 100\n",
    "    porcentagem_rendaInformal_mals = 100 - porcentagem_rendaInformal_bons\n",
    "    \n",
    "    print('\\033[1m' + '{}:'.format(dicionario_salarios[i]) + '\\033[0m' +\n",
    "          '\\nBons: {}% | Mals: {}%\\n\\n'.format(porcentagem_rendaInformal_bons, \n",
    "                                              porcentagem_rendaInformal_mals))"
   ]
  }
 ],
 "metadata": {
  "kernelspec": {
   "display_name": "Python 3",
   "language": "python",
   "name": "python3"
  },
  "language_info": {
   "codemirror_mode": {
    "name": "ipython",
    "version": 3
   },
   "file_extension": ".py",
   "mimetype": "text/x-python",
   "name": "python",
   "nbconvert_exporter": "python",
   "pygments_lexer": "ipython3",
   "version": "3.8.3"
  }
 },
 "nbformat": 4,
 "nbformat_minor": 4
}
